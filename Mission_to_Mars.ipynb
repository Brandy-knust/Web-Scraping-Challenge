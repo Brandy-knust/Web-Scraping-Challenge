{
 "cells": [
  {
   "cell_type": "code",
   "execution_count": 1,
   "id": "7bb5f380",
   "metadata": {},
   "outputs": [
    {
     "name": "stderr",
     "output_type": "stream",
     "text": [
      "[WDM] - ====== WebDriver manager ======\n",
      "[WDM] - Current google-chrome version is 89.0.4389\n",
      "[WDM] - Get LATEST driver version for 89.0.4389\n"
     ]
    },
    {
     "name": "stdout",
     "output_type": "stream",
     "text": [
      "\n",
      "\n"
     ]
    },
    {
     "name": "stderr",
     "output_type": "stream",
     "text": [
      "[WDM] - Driver [C:\\Users\\brand\\.wdm\\drivers\\chromedriver\\win32\\89.0.4389.23\\chromedriver.exe] found in cache\n"
     ]
    }
   ],
   "source": [
    "from selenium import webdriver\n",
    "from bs4 import BeautifulSoup as bs\n",
    "import time\n",
    "from webdriver_manager.chrome import ChromeDriverManager\n",
    "from selenium.webdriver.common.keys import Keys\n",
    "import pandas as pd\n",
    "import requests as r\n",
    "from splinter import Browser\n",
    "executable_path = {'executable_path': ChromeDriverManager().install()}\n",
    "browser = Browser('chrome', **executable_path, headless=False)"
   ]
  },
  {
   "cell_type": "code",
   "execution_count": 2,
   "id": "5ef299c6",
   "metadata": {},
   "outputs": [
    {
     "name": "stderr",
     "output_type": "stream",
     "text": [
      "[WDM] - ====== WebDriver manager ======\n",
      "[WDM] - Current google-chrome version is 89.0.4389\n",
      "[WDM] - Get LATEST driver version for 89.0.4389\n",
      "[WDM] - Driver [C:\\Users\\brand\\.wdm\\drivers\\chromedriver\\win32\\89.0.4389.23\\chromedriver.exe] found in cache\n"
     ]
    },
    {
     "name": "stdout",
     "output_type": "stream",
     "text": [
      "\n",
      "\n"
     ]
    }
   ],
   "source": [
    "driver = webdriver.Chrome(ChromeDriverManager().install())"
   ]
  },
  {
   "cell_type": "code",
   "execution_count": 3,
   "id": "92808f82",
   "metadata": {},
   "outputs": [],
   "source": [
    "url=\"https://mars.nasa.gov/news/\""
   ]
  },
  {
   "cell_type": "code",
   "execution_count": 4,
   "id": "ec0cce77",
   "metadata": {},
   "outputs": [],
   "source": [
    "news_title=[]\n",
    "news_p=[]"
   ]
  },
  {
   "cell_type": "code",
   "execution_count": 5,
   "id": "e47c011a",
   "metadata": {},
   "outputs": [
    {
     "name": "stdout",
     "output_type": "stream",
     "text": [
      "<div class=\"content_title\">Mars Now</div>\n"
     ]
    }
   ],
   "source": [
    "driver.get(url)\n",
    "time.sleep(3)\n",
    "html=driver.page_source\n",
    "soup = bs(html)\n",
    "results=soup.find_all(class_=\"content_title\")\n",
    "news_title=results[0]\n",
    "print(news_title)"
   ]
  },
  {
   "cell_type": "code",
   "execution_count": 6,
   "id": "9150ddad",
   "metadata": {},
   "outputs": [],
   "source": [
    "item_list=soup.find(class_=\"item_list\")"
   ]
  },
  {
   "cell_type": "code",
   "execution_count": 7,
   "id": "d0b12df8",
   "metadata": {},
   "outputs": [
    {
     "name": "stdout",
     "output_type": "stream",
     "text": [
      "NASA's Ingenuity Mars Helicopter Logs Second Successful Flight\n"
     ]
    }
   ],
   "source": [
    "results=item_list.find_all(class_=\"content_title\")\n",
    "news_title=results[0].text\n",
    "print(news_title)"
   ]
  },
  {
   "cell_type": "code",
   "execution_count": 8,
   "id": "20ce3d73",
   "metadata": {},
   "outputs": [
    {
     "name": "stdout",
     "output_type": "stream",
     "text": [
      "https://mars.nasa.gov/news/8928/nasas-ingenuity-mars-helicopter-logs-second-successful-flight/\n"
     ]
    }
   ],
   "source": [
    "href=driver.find_element_by_xpath('//*[@id=\"page\"]/div[3]/div/article/div/section/div/ul/li[1]/div/div/div[2]/a').get_attribute(\"href\")\n",
    "print(href)"
   ]
  },
  {
   "cell_type": "code",
   "execution_count": 9,
   "id": "e22c8649",
   "metadata": {},
   "outputs": [
    {
     "name": "stdout",
     "output_type": "stream",
     "text": [
      "<div class=\"clearfix\" id=\"primary_column\">\n",
      "<figure class=\"main_image\">\n",
      "<img alt=\"Ingenuity's Second Flight As Seen by Perseverance:\" id=\"main_image\" src=\"/system/news_items/main_images/8928_Mars_Perseverance_ZL0_0058_0672089556_654ECV_N0032046ZCAM05032_110050J-web.jpg\"/>\n",
      "<figcaption class=\"main_image_caption\">\n",
      "<p><b>Ingenuity's Second Flight As Seen by Perseverance: </b><span>NASA’s Mars Perseverance rover acquired this image using its left Mastcam-Z camera. Mastcam-Z is a pair of cameras located high on the rover’s mast. This is one still frame from a sequence captured by the camera while taking video. This image was acquired on Apr. 22, 2021. Credits: NASA/JPL-Caltech/ASU/MSSS.  <a href=\"/resources/25840/\">Download image ›</a></span></p>\n",
      "</figcaption>\n",
      "</figure>\n",
      "<div class=\"wysiwyg_content\">\n",
      "<hr/>\n",
      "<p><i>The small rotorcraft’s horizons were expanded on its second flight.</i></p>\n",
      "<hr/>\n",
      "<p>NASA’s Ingenuity helicopter successfully completed its second Mars flight on April 22 – the 18th sol, or Martian day, of its experimental flight test window. Lasting 51.9 seconds, the flight added several new challenges to <a href=\"https://mars.nasa.gov/news/8923/nasas-ingenuity-mars-helicopter-succeeds-in-historic-first-flight/\">the first</a>, which took place on April 19, including a higher maximum altitude, longer duration, and sideways movement.</p>\n",
      "<p>“So far, the engineering telemetry we have received and analyzed tell us that the flight met expectations and our prior computer modeling has been accurate,” said Bob Balaram, chief engineer for the Ingenuity Mars Helicopter at NASA’s Jet Propulsion Laboratory in Southern California. “We have two flights of Mars under our belts, which means that there is still a lot to learn during this month of Ingenuity.”</p>\n",
      "<div class=\"column-width video_player_container\" data-react-cache-id=\"Video-0\" data-react-class=\"Video\" data-react-props='{\"files\":[{\"file\":\"/system/video_items/6007_PIA24595.mp4\"}],\"vtt_files\":[],\"caption\":\"\\u003cb\\u003ePerseverance\\u0026#39;s Mastcam-Z Video of Second Flight:\\u003c/b\\u003e NASA\\u0026rsquo;s Ingenuity Mars Helicopter hovers and rotates over Jezero Crater during its second experimental flight test on April 22, 2021. The footage was captured by the Mastcam-Z imager, a pair of zoomable cameras aboard NASA\\u0026rsquo;s Perseverance Mars rover. Credits: NASA/JPL-Caltech. \\u003ca href=\\\"https://mars.nasa.gov/resources/25842\\\"\\u003eDownload video \\u0026rsaquo;\\u003c/a\\u003e\",\"poster\":\"/system/resources/detail_files/25842_PIA24595-web.jpg\",\"video_div\":\"video_18534\",\"layout\":\"column-width\",\"autostart\":true,\"vrview\":\"false\",\"vrview_stereo\":\"false\",\"display_caption\":true,\"autoloop\":false}'><figure><div class=\"video_container\" id=\"video_18534\"><video controls=\"\" poster=\"/system/resources/detail_files/25842_PIA24595-web.jpg\"><source src=\"/system/video_items/6007_PIA24595.mp4\" type=\"video/mp4\">Your browser does not support the video tag.</source></video></div><figcaption><b>Perseverance's Mastcam-Z Video of Second Flight:</b> NASA’s Ingenuity Mars Helicopter hovers and rotates over Jezero Crater during its second experimental flight test on April 22, 2021. The footage was captured by the Mastcam-Z imager, a pair of zoomable cameras aboard NASA’s Perseverance Mars rover. Credits: NASA/JPL-Caltech. <a href=\"https://mars.nasa.gov/resources/25842\">Download video ›</a></figcaption></figure></div>\n",
      "<p>For this second flight test at “Wright Brothers Field,” Ingenuity took off again at 5:33 a.m. EDT (2:33 a.m. PDT), or 12:33 p.m. local Mars time. But where Flight One topped out at 10 feet (3 meters) above the surface, Ingenuity climbed to 16 feet (5 meters) this time. After the helicopter hovered briefly, its flight control system performed a slight (5-degree) tilt, allowing some of the thrust from the counter-rotating rotors to accelerate the craft sideways for 7 feet (2 meters).</p>\n",
      "<p>“The helicopter came to a stop, hovered in place, and made turns to point its camera in different directions,” said Håvard Grip, Ingenuity’s chief pilot at JPL. “Then it headed back to the center of the airfield to land. It sounds simple, but there are many unknowns regarding how to fly a helicopter on Mars. That’s why we’re here – to make these unknowns known.”</p>\n",
      "<div class=\"column-width image_module\" style=\"\">\n",
      "<figure class=\"inline_figure\">\n",
      "<a class=\"inline_image_enlarge fancybox\" href=\"/system/resources/detail_files/25839_PIA24592-web.jpg\">\n",
      "<img alt=\"In Flight Image from Ingenuity's Second Flight\" src=\"/system/resources/detail_files/25839_PIA24592-web.jpg\"/>\n",
      "<div class=\"enlarge_icon\"></div>\n",
      "</a>\n",
      "<figcaption>\n",
      "<b>In Flight Image from Ingenuity's Second Flight</b>: The Ingenuity Mars Helicopter’s navigation camera captures the helicopter's shadow on the surface of Jezero Crater during rotorcraft’s second experimental test flight on April 22, 2021. Credits: NASA/JPL-Caltech. <a href=\"/resources/25839/in-flight-image-from-ingenuitys-second-flight/\">Full image and caption ›</a>\n",
      "</figcaption>\n",
      "</figure>\n",
      "</div>\n",
      "<p>Operating an aircraft in a controlled manner at Mars is far more difficult than flying one on Earth. Even though gravity on Mars is about one third that of Earth’s, the helicopter must fly with the assistance of an atmosphere with only about 1% of the density at Earth’s surface. Each second of each flight provides an abundance of Mars in-flight data for comparison to the modeling, simulations, and tests performed back here on Earth. And NASA also gains its first practical experience operating a rotorcraft remotely at Mars. These datasets will prove invaluable for potential future Mars missions that could enlist next-generation helicopters to add an aerial dimension to their explorations.</p>\n",
      "<p>The Ingenuity Mars Helicopter project is a high-risk, high-reward technology demonstration. If Ingenuity were to encounter difficulties during its 30-sol mission, the science-gathering of NASA’s Perseverance Mars rover mission wouldn’t be impacted.</p>\n",
      "<p>As with the first test, the Perseverance rover obtained imagery of the flight attempt from 211 feet (64.3 meters) away at “<a href=\"/resources/25745\">Van Zyl Overlook</a>” using its Navcam and Mastcam-Z imagers. The initial set of data – including imagery – from the flight was received by the Ingenuity team beginning at 9:20 a.m. EDT (6:20 a.m. PDT).</p>\n",
      "<div class=\"column-width image_module\" style=\"\">\n",
      "<figure class=\"inline_figure\">\n",
      "<a class=\"inline_image_enlarge fancybox\" href=\"/system/resources/detail_files/25841_PIA24597-Team-Reacts-web.jpg\">\n",
      "<img alt=\"Ingenuity's Team Reacts to Data Showing Helicopter Completed Its Second Flight \" src=\"/system/resources/detail_files/25841_PIA24597-Team-Reacts-web.jpg\"/>\n",
      "<div class=\"enlarge_icon\"></div>\n",
      "</a>\n",
      "<figcaption>\n",
      "<b>Ingenuity's Team Reacts to Data Showing Helicopter Completed Its Second Flight:</b> Members of NASA’s Ingenuity Mars Helicopter team at the agency’s Jet Propulsion Laboratory react to data showing that the helicopter completed its second flight on the Red Planet on April 22, 2021. Credits: NASA/JPL-Caltech. <a href=\"https://mars.nasa.gov/resources/25841\">Full image and caption ›;</a>\n",
      "</figcaption>\n",
      "</figure>\n",
      "</div>\n",
      "<p>“For the second flight, we tried a slightly different approach to the zoom level on one of the cameras,” said Justin Maki, Perseverance project imaging scientist and Mastcam-Z deputy principal investigator at JPL. “For the first flight, one of the cameras was fully zoomed in on the takeoff and landing zone. For the second flight we zoomed that camera out a bit for a wider field of view<span> to capture more of the flight.</span>”</p>\n",
      "<p>Because the data and imagery indicate that the Mars Helicopter not only survived the second flight but also flew as anticipated, the Ingenuity team is considering how best to expand the profiles of its next flights to acquire additional aeronautical data from the first successful flight tests on another world.</p>\n",
      "<p><b>More About Ingenuity</b></p>\n",
      "<p>The Ingenuity Mars Helicopter was built by JPL, which also manages this technology demonstration project for NASA Headquarters. It is supported by NASA’s Science Mission Directorate, Aeronautics Research Mission Directorate, and Space Technology Mission Directorate. NASA’s Ames Research Center and Langley Research Center provided significant flight performance analysis and technical assistance during Ingenuity’s development.</p>\n",
      "<p>At NASA Headquarters, Dave Lavery is the program executive for the Ingenuity Mars Helicopter. At JPL, MiMi Aung is the project manager and J. (Bob) Balaram is chief engineer.</p>\n",
      "<p>For more information about Ingenuity:</p>\n",
      "<p><a href=\"https://go.nasa.gov/ingenuity-press-kit\"><b>https://go.nasa.gov/ingenuity-press-kit</b></a></p>\n",
      "<p>and</p>\n",
      "<p><a href=\"https://mars.nasa.gov/technology/helicopter\"><b>https://mars.nasa.gov/technology/helicopter</b></a></p>\n",
      "<p><b>More About Perseverance</b></p>\n",
      "<p>A key objective for Perseverance’s mission on Mars is <a href=\"https://astrobiology.nasa.gov/\" target=\"_blank\">astrobiology</a>, including the search for signs of ancient microbial life. The rover will characterize the planet’s geology and past climate, pave the way for human exploration of the Red Planet, and be the first mission to collect and cache Martian rock and regolith (broken rock and dust).</p>\n",
      "<p>Subsequent NASA missions, in cooperation with ESA (European Space Agency), would send spacecraft to Mars to collect these sealed samples from the surface and return them to Earth for in-depth analysis.</p>\n",
      "<p>The Mars 2020 Perseverance mission is part of NASA’s Moon to Mars exploration approach, which includes <a href=\"https://www.nasa.gov/specials/artemis/\" target=\"_blank\">Artemis</a> missions to the Moon that will help prepare for human exploration of the Red Planet.</p>\n",
      "<p>JPL, which is managed for NASA by Caltech in Pasadena, California, built and manages operations of the Perseverance rover.</p>\n",
      "<p>For more about Perseverance:</p>\n",
      "<p><a href=\"https://nasa.gov/perseverance\" target=\"_blank\"><b>nasa.gov/perseverance</b></a></p>\n",
      "<p>and</p>\n",
      "<p><a href=\"https://mars.nasa.gov/mars2020/\"><b>mars.nasa.gov/mars2020/</b></a></p>\n",
      "<p><b>News Media Contacts</b></p>\n",
      "<p>Alana Johnson / Grey Hautaluoma<br/>\n",
      "NASA Headquarters, Washington<br/>\n",
      "202-672-4780 / 202-358-0668<br/>\n",
      "<a href=\"mailto:alana.r.johnson@nasa.gov\">alana.r.johnson@nasa.gov</a> / <a href=\"mailto:grey.hautaluoma-1@nasa.gov\">grey.hautaluoma-1@nasa.gov</a></p>\n",
      "<p>DC Agle<br/>\n",
      "Jet Propulsion Laboratory, Pasadena, Calif.<br/>\n",
      "818-393-9011<br/>\n",
      "<a href=\"mailto:agle@jpl.nasa.gov\">agle@jpl.nasa.gov</a></p>\n",
      "</div>\n",
      "</div>\n"
     ]
    }
   ],
   "source": [
    "driver.get(href)\n",
    "time.sleep(3)\n",
    "html=driver.page_source\n",
    "soup=bs(html)\n",
    "results2=soup.find(\"div\", id=\"primary_column\")\n",
    "print(results2)"
   ]
  },
  {
   "cell_type": "code",
   "execution_count": 10,
   "id": "faa39643",
   "metadata": {},
   "outputs": [
    {
     "name": "stdout",
     "output_type": "stream",
     "text": [
      "Ingenuity's Second Flight As Seen by Perseverance: NASA’s Mars Perseverance rover acquired this image using its left Mastcam-Z camera. Mastcam-Z is a pair of cameras located high on the rover’s mast. This is one still frame from a sequence captured by the camera while taking video. This image was acquired on Apr. 22, 2021. Credits: NASA/JPL-Caltech/ASU/MSSS.  Download image ›\n",
      "The small rotorcraft’s horizons were expanded on its second flight.\n",
      "NASA’s Ingenuity helicopter successfully completed its second Mars flight on April 22 – the 18th sol, or Martian day, of its experimental flight test window. Lasting 51.9 seconds, the flight added several new challenges to the first, which took place on April 19, including a higher maximum altitude, longer duration, and sideways movement.\n",
      "“So far, the engineering telemetry we have received and analyzed tell us that the flight met expectations and our prior computer modeling has been accurate,” said Bob Balaram, chief engineer for the Ingenuity Mars Helicopter at NASA’s Jet Propulsion Laboratory in Southern California. “We have two flights of Mars under our belts, which means that there is still a lot to learn during this month of Ingenuity.”\n",
      "For this second flight test at “Wright Brothers Field,” Ingenuity took off again at 5:33 a.m. EDT (2:33 a.m. PDT), or 12:33 p.m. local Mars time. But where Flight One topped out at 10 feet (3 meters) above the surface, Ingenuity climbed to 16 feet (5 meters) this time. After the helicopter hovered briefly, its flight control system performed a slight (5-degree) tilt, allowing some of the thrust from the counter-rotating rotors to accelerate the craft sideways for 7 feet (2 meters).\n",
      "“The helicopter came to a stop, hovered in place, and made turns to point its camera in different directions,” said Håvard Grip, Ingenuity’s chief pilot at JPL. “Then it headed back to the center of the airfield to land. It sounds simple, but there are many unknowns regarding how to fly a helicopter on Mars. That’s why we’re here – to make these unknowns known.”\n",
      "Operating an aircraft in a controlled manner at Mars is far more difficult than flying one on Earth. Even though gravity on Mars is about one third that of Earth’s, the helicopter must fly with the assistance of an atmosphere with only about 1% of the density at Earth’s surface. Each second of each flight provides an abundance of Mars in-flight data for comparison to the modeling, simulations, and tests performed back here on Earth. And NASA also gains its first practical experience operating a rotorcraft remotely at Mars. These datasets will prove invaluable for potential future Mars missions that could enlist next-generation helicopters to add an aerial dimension to their explorations.\n",
      "The Ingenuity Mars Helicopter project is a high-risk, high-reward technology demonstration. If Ingenuity were to encounter difficulties during its 30-sol mission, the science-gathering of NASA’s Perseverance Mars rover mission wouldn’t be impacted.\n",
      "As with the first test, the Perseverance rover obtained imagery of the flight attempt from 211 feet (64.3 meters) away at “Van Zyl Overlook” using its Navcam and Mastcam-Z imagers. The initial set of data – including imagery – from the flight was received by the Ingenuity team beginning at 9:20 a.m. EDT (6:20 a.m. PDT).\n",
      "“For the second flight, we tried a slightly different approach to the zoom level on one of the cameras,” said Justin Maki, Perseverance project imaging scientist and Mastcam-Z deputy principal investigator at JPL. “For the first flight, one of the cameras was fully zoomed in on the takeoff and landing zone. For the second flight we zoomed that camera out a bit for a wider field of view to capture more of the flight.”\n",
      "Because the data and imagery indicate that the Mars Helicopter not only survived the second flight but also flew as anticipated, the Ingenuity team is considering how best to expand the profiles of its next flights to acquire additional aeronautical data from the first successful flight tests on another world.\n",
      "More About Ingenuity\n",
      "The Ingenuity Mars Helicopter was built by JPL, which also manages this technology demonstration project for NASA Headquarters. It is supported by NASA’s Science Mission Directorate, Aeronautics Research Mission Directorate, and Space Technology Mission Directorate. NASA’s Ames Research Center and Langley Research Center provided significant flight performance analysis and technical assistance during Ingenuity’s development.\n",
      "At NASA Headquarters, Dave Lavery is the program executive for the Ingenuity Mars Helicopter. At JPL, MiMi Aung is the project manager and J. (Bob) Balaram is chief engineer.\n",
      "For more information about Ingenuity:\n",
      "https://go.nasa.gov/ingenuity-press-kit\n",
      "and\n",
      "https://mars.nasa.gov/technology/helicopter\n",
      "More About Perseverance\n",
      "A key objective for Perseverance’s mission on Mars is astrobiology, including the search for signs of ancient microbial life. The rover will characterize the planet’s geology and past climate, pave the way for human exploration of the Red Planet, and be the first mission to collect and cache Martian rock and regolith (broken rock and dust).\n",
      "Subsequent NASA missions, in cooperation with ESA (European Space Agency), would send spacecraft to Mars to collect these sealed samples from the surface and return them to Earth for in-depth analysis.\n",
      "The Mars 2020 Perseverance mission is part of NASA’s Moon to Mars exploration approach, which includes Artemis missions to the Moon that will help prepare for human exploration of the Red Planet.\n",
      "JPL, which is managed for NASA by Caltech in Pasadena, California, built and manages operations of the Perseverance rover.\n",
      "For more about Perseverance:\n",
      "nasa.gov/perseverance\n",
      "and\n",
      "mars.nasa.gov/mars2020/\n",
      "News Media Contacts\n",
      "Alana Johnson / Grey Hautaluoma\n",
      "NASA Headquarters, Washington\n",
      "202-672-4780 / 202-358-0668\n",
      "alana.r.johnson@nasa.gov / grey.hautaluoma-1@nasa.gov\n",
      "DC Agle\n",
      "Jet Propulsion Laboratory, Pasadena, Calif.\n",
      "818-393-9011\n",
      "agle@jpl.nasa.gov\n"
     ]
    }
   ],
   "source": [
    "paragraphs = results2.find_all('p')\n",
    "for paragraph in paragraphs:\n",
    "    print(paragraph.text)"
   ]
  },
  {
   "cell_type": "code",
   "execution_count": 11,
   "id": "9afda661",
   "metadata": {},
   "outputs": [],
   "source": [
    "mars_image_url=\"https://data-class-jpl-space.s3.amazonaws.com/JPL_Space/index.html\""
   ]
  },
  {
   "cell_type": "code",
   "execution_count": 12,
   "id": "f390b4bc",
   "metadata": {},
   "outputs": [
    {
     "name": "stdout",
     "output_type": "stream",
     "text": [
      "image/featured/mars2.jpg\n"
     ]
    }
   ],
   "source": [
    "driver.get(mars_image_url)\n",
    "time.sleep(3)\n",
    "html=driver.page_source\n",
    "soup=bs(html)\n",
    "img=soup.find(class_=\"showimg\")\n",
    "for link in soup(\"a\", \"showimg\", href=True):\n",
    "    img_href=(link['href'])\n",
    "print(img_href)"
   ]
  },
  {
   "cell_type": "code",
   "execution_count": 13,
   "id": "014fa724",
   "metadata": {},
   "outputs": [
    {
     "name": "stdout",
     "output_type": "stream",
     "text": [
      "\"https://data-class-jpl-space.s3.amazonaws.com/JPL_Spaceimage/featured/mars2.jpg\"\n"
     ]
    }
   ],
   "source": [
    "print(f'\"https://data-class-jpl-space.s3.amazonaws.com/JPL_Space{img_href}\"')"
   ]
  },
  {
   "cell_type": "code",
   "execution_count": 14,
   "id": "ae37da9e",
   "metadata": {},
   "outputs": [],
   "source": [
    "mars_url=\"https://space-facts.com/mars/\""
   ]
  },
  {
   "cell_type": "code",
   "execution_count": 15,
   "id": "59dbdf93",
   "metadata": {},
   "outputs": [],
   "source": [
    "mars_df=pd.read_html(mars_url)[0]"
   ]
  },
  {
   "cell_type": "code",
   "execution_count": 16,
   "id": "7111b202",
   "metadata": {},
   "outputs": [],
   "source": [
    "html_string=mars_df.to_html()\n",
    "   "
   ]
  },
  {
   "cell_type": "code",
   "execution_count": 17,
   "id": "f3c4bce1",
   "metadata": {},
   "outputs": [],
   "source": [
    "hemispheres_url=\"https://astrogeology.usgs.gov/search/results?q=hemisphere+enhanced&k1=target&v1=Mars\""
   ]
  },
  {
   "cell_type": "code",
   "execution_count": 18,
   "id": "21bbaddf",
   "metadata": {},
   "outputs": [],
   "source": [
    "# driver.get(hemispheres_url)\n",
    "# time.sleep(5)\n",
    "# html=driver.page_source\n",
    "# soup=bs(html)"
   ]
  },
  {
   "cell_type": "code",
   "execution_count": 19,
   "id": "9e3ed68a",
   "metadata": {},
   "outputs": [],
   "source": [
    "# new_html=driver.find_element_by_xpath(\"/html/body/div[1]/div[1]/div[2]/section/div/div[2]/div[1]/div/a\").click()\n",
    "# time.sleep(4)\n"
   ]
  },
  {
   "cell_type": "code",
   "execution_count": 20,
   "id": "d1f19b9d",
   "metadata": {},
   "outputs": [],
   "source": [
    "# res2=soup.find_all(class_=\"content\")\n",
    "# print(res2)"
   ]
  },
  {
   "cell_type": "code",
   "execution_count": 21,
   "id": "4580f584",
   "metadata": {},
   "outputs": [],
   "source": [
    "hemi_url=[]\n",
    "hemisphere_image_urls=[]\n",
    "hemisphere_titles=[]"
   ]
  },
  {
   "cell_type": "code",
   "execution_count": 22,
   "id": "5954be96",
   "metadata": {},
   "outputs": [],
   "source": [
    "# for url in urls:\n",
    "#     browser.visit(hemispheres_url)\n",
    "#     browser.links.find_by_partial_text('Hemisphere').click()\n",
    "#     html = browser.html\n",
    "#     soup = bs(html, 'html.parser')\n",
    "    \n",
    "#     res = soup.find_all('div', class_='downloads')\n",
    "    \n",
    "#     hemisphere_image_urls=res[0].find(\"a\")\n",
    "#     hemisphere_image_urls=hemisphere_image_urls['href']\n",
    "#     hemisphere_image_urls.append()\n",
    "#     break\n",
    "#     print(hemisphere_image_urls)"
   ]
  },
  {
   "cell_type": "code",
   "execution_count": 23,
   "id": "ac2c79c3",
   "metadata": {},
   "outputs": [],
   "source": [
    "driver.get(hemispheres_url)\n",
    "time.sleep(3)\n",
    "html=driver.page_source\n",
    "soup = bs(html)\n",
    "hem_res=soup.find_all(class_=\"itemLink\")\n",
    "# for link in soup:\n",
    "#     find_all(\"a\", \"itemLink\", href=True):\n",
    "#     hemi_html=(link['href'])\n",
    "# print(hemi_html)"
   ]
  },
  {
   "cell_type": "code",
   "execution_count": 24,
   "id": "8afecca2",
   "metadata": {},
   "outputs": [],
   "source": [
    "soup.find_all('a', 'itemLink', href=True)\n",
    "for link in soup.find_all('a', 'itemLink', href=True):\n",
    "    if link.h3: \n",
    "        hemi_url.append(link['href'])\n"
   ]
  },
  {
   "cell_type": "code",
   "execution_count": 32,
   "id": "1fad2e39",
   "metadata": {},
   "outputs": [
    {
     "name": "stdout",
     "output_type": "stream",
     "text": [
      "['/search/map/Mars/Viking/cerberus_enhanced', '/search/map/Mars/Viking/schiaparelli_enhanced', '/search/map/Mars/Viking/syrtis_major_enhanced', '/search/map/Mars/Viking/valles_marineris_enhanced']\n"
     ]
    }
   ],
   "source": [
    "print(hemi_url)"
   ]
  },
  {
   "cell_type": "code",
   "execution_count": 25,
   "id": "a937f7d3",
   "metadata": {},
   "outputs": [],
   "source": [
    "#hemisphere_url2=(f\"https://astrogeology.usgs.gov{hemi_url}\")"
   ]
  },
  {
   "cell_type": "code",
   "execution_count": 37,
   "id": "cfd49447",
   "metadata": {},
   "outputs": [
    {
     "name": "stdout",
     "output_type": "stream",
     "text": [
      "<div class=\"downloads\">\n",
      "<img class=\"thumb\" src=\"/cache/images/39d3266553462198bd2fbc4d18fbed17_cerberus_enhanced.tif_thumb.png\"/>\n",
      "<h3>Download</h3>\n",
      "<ul>\n",
      "<li><a href=\"https://astropedia.astrogeology.usgs.gov/download/Mars/Viking/cerberus_enhanced.tif/full.jpg\" target=\"_blank\">Sample</a> (jpg) 1024px wide</li>\n",
      "<li><a href=\"https://astropedia.astrogeology.usgs.gov/download/Mars/Viking/cerberus_enhanced.tif\" target=\"_blank\">Original</a> (tif<span class=\"tooltip word-tif\" title=\"\"></span>) 21 MB</li>\n",
      "</ul>\n",
      "</div>\n"
     ]
    },
    {
     "data": {
      "text/plain": [
       "'https://astropedia.astrogeology.usgs.gov/download/Mars/Viking/cerberus_enhanced.tif/full.jpg'"
      ]
     },
     "execution_count": 37,
     "metadata": {},
     "output_type": "execute_result"
    }
   ],
   "source": [
    "driver.get(f\"https://astrogeology.usgs.gov/search/map/Mars/Viking/cerberus_enhanced\")\n",
    "html=driver.page_source\n",
    "soup=bs(html)\n",
    "himg=soup.find(class_=\"downloads\")\n",
    "print(himg)\n",
    "himg.find(\"a\", text=\"Sample\").get('href')    "
   ]
  },
  {
   "cell_type": "code",
   "execution_count": 43,
   "id": "694f889a",
   "metadata": {},
   "outputs": [
    {
     "name": "stdout",
     "output_type": "stream",
     "text": [
      "Cerberus Hemisphere Enhanced\n",
      "https://astropedia.astrogeology.usgs.gov/download/Mars/Viking/cerberus_enhanced.tif/full.jpg\n",
      "Schiaparelli Hemisphere Enhanced\n",
      "https://astropedia.astrogeology.usgs.gov/download/Mars/Viking/schiaparelli_enhanced.tif/full.jpg\n",
      "Syrtis Major Hemisphere Enhanced\n",
      "https://astropedia.astrogeology.usgs.gov/download/Mars/Viking/syrtis_major_enhanced.tif/full.jpg\n",
      "Valles Marineris Hemisphere Enhanced\n",
      "https://astropedia.astrogeology.usgs.gov/download/Mars/Viking/valles_marineris_enhanced.tif/full.jpg\n"
     ]
    }
   ],
   "source": [
    "for hemi in hemi_url:\n",
    "    driver.get(f\"https://astrogeology.usgs.gov{hemi}\")\n",
    "    time.sleep(3)\n",
    "    html=driver.page_source\n",
    "    soup=bs(html)\n",
    "    himg=soup.find(class_=\"downloads\")\n",
    "    sample_pictures=himg.find(\"a\", text=\"Sample\").get('href')\n",
    "    sample_title=soup.find(\"h2\", class_=\"title\").get_text()\n",
    "    hemisphere_image_urls.append(himg)\n",
    "    hemisphere_titles.append(sample_title)\n",
    "    print(sample_title)\n",
    "    print(sample_pictures)\n",
    "#     for link in himg:        \n",
    "#         print(.find(\"a\", text=\"Sample\").get('href'))\n",
    "#         hemi_img=link.get('href')\n",
    "#         print(hemi_img)"
   ]
  },
  {
   "cell_type": "code",
   "execution_count": null,
   "id": "378f6ac0",
   "metadata": {},
   "outputs": [],
   "source": [
    "#**********CREATE DICTIONARY BRANDY***********"
   ]
  },
  {
   "cell_type": "code",
   "execution_count": null,
   "id": "89e5a477",
   "metadata": {},
   "outputs": [],
   "source": []
  },
  {
   "cell_type": "code",
   "execution_count": null,
   "id": "9d6e8a04",
   "metadata": {},
   "outputs": [],
   "source": [
    "{\"https://astrogeology.usgs.gov/cache/images/f5e372a36edfa389625da6d0cc25d905_cerberus_enhanced.tif_full.jpg\""
   ]
  }
 ],
 "metadata": {
  "kernelspec": {
   "display_name": "Python 3",
   "language": "python",
   "name": "python3"
  },
  "language_info": {
   "codemirror_mode": {
    "name": "ipython",
    "version": 3
   },
   "file_extension": ".py",
   "mimetype": "text/x-python",
   "name": "python",
   "nbconvert_exporter": "python",
   "pygments_lexer": "ipython3",
   "version": "3.6.10"
  }
 },
 "nbformat": 4,
 "nbformat_minor": 5
}
