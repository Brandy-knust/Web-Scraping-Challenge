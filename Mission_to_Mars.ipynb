{
 "cells": [
  {
   "cell_type": "code",
   "execution_count": 1,
   "id": "6ece524d",
   "metadata": {},
   "outputs": [
    {
     "name": "stderr",
     "output_type": "stream",
     "text": [
      "[WDM] - ====== WebDriver manager ======\n",
      "[WDM] - Current google-chrome version is 89.0.4389\n",
      "[WDM] - Get LATEST driver version for 89.0.4389\n"
     ]
    },
    {
     "name": "stdout",
     "output_type": "stream",
     "text": [
      "\n",
      "\n"
     ]
    },
    {
     "name": "stderr",
     "output_type": "stream",
     "text": [
      "[WDM] - Driver [C:\\Users\\brand\\.wdm\\drivers\\chromedriver\\win32\\89.0.4389.23\\chromedriver.exe] found in cache\n"
     ]
    }
   ],
   "source": [
    "from selenium import webdriver\n",
    "from bs4 import BeautifulSoup as bs\n",
    "import time\n",
    "from webdriver_manager.chrome import ChromeDriverManager\n",
    "from selenium.webdriver.common.keys import Keys\n",
    "import pandas as pd\n",
    "import requests as r\n",
    "from splinter import Browser\n",
    "executable_path = {'executable_path': ChromeDriverManager().install()}\n",
    "browser = Browser('chrome', **executable_path, headless=False)"
   ]
  },
  {
   "cell_type": "code",
   "execution_count": 2,
   "id": "bdf0a4d6",
   "metadata": {},
   "outputs": [
    {
     "name": "stderr",
     "output_type": "stream",
     "text": [
      "[WDM] - ====== WebDriver manager ======\n",
      "[WDM] - Current google-chrome version is 89.0.4389\n",
      "[WDM] - Get LATEST driver version for 89.0.4389\n",
      "[WDM] - Driver [C:\\Users\\brand\\.wdm\\drivers\\chromedriver\\win32\\89.0.4389.23\\chromedriver.exe] found in cache\n"
     ]
    },
    {
     "name": "stdout",
     "output_type": "stream",
     "text": [
      "\n",
      "\n"
     ]
    }
   ],
   "source": [
    "driver = webdriver.Chrome(ChromeDriverManager().install())"
   ]
  },
  {
   "cell_type": "code",
   "execution_count": 3,
   "id": "4e201802",
   "metadata": {},
   "outputs": [],
   "source": [
    "url=\"https://mars.nasa.gov/news/\""
   ]
  },
  {
   "cell_type": "code",
   "execution_count": 4,
   "id": "a9ee838e",
   "metadata": {},
   "outputs": [],
   "source": [
    "news_title=[]\n",
    "news_p=[]"
   ]
  },
  {
   "cell_type": "code",
   "execution_count": 5,
   "id": "dc384e60",
   "metadata": {},
   "outputs": [
    {
     "name": "stdout",
     "output_type": "stream",
     "text": [
      "<div class=\"content_title\">Mars Now</div>\n"
     ]
    }
   ],
   "source": [
    "driver.get(url)\n",
    "time.sleep(3)\n",
    "html=driver.page_source\n",
    "soup = bs(html)\n",
    "results=soup.find_all(class_=\"content_title\")\n",
    "news_title=results[0]\n",
    "print(news_title)"
   ]
  },
  {
   "cell_type": "code",
   "execution_count": 6,
   "id": "5fbc089f",
   "metadata": {},
   "outputs": [],
   "source": [
    "item_list=soup.find(class_=\"item_list\")"
   ]
  },
  {
   "cell_type": "code",
   "execution_count": 7,
   "id": "5c8509d0",
   "metadata": {},
   "outputs": [
    {
     "name": "stdout",
     "output_type": "stream",
     "text": [
      "NASA's Perseverance Mars Rover Extracts First Oxygen From Red Planet\n"
     ]
    }
   ],
   "source": [
    "results=item_list.find_all(class_=\"content_title\")\n",
    "news_title=results[0].text\n",
    "print(news_title)"
   ]
  },
  {
   "cell_type": "code",
   "execution_count": 8,
   "id": "2d495a72",
   "metadata": {},
   "outputs": [
    {
     "name": "stdout",
     "output_type": "stream",
     "text": [
      "https://mars.nasa.gov/news/8926/nasas-perseverance-mars-rover-extracts-first-oxygen-from-red-planet/\n"
     ]
    }
   ],
   "source": [
    "href=driver.find_element_by_xpath('//*[@id=\"page\"]/div[3]/div/article/div/section/div/ul/li[1]/div/div/div[2]/a').get_attribute(\"href\")\n",
    "print(href)"
   ]
  },
  {
   "cell_type": "code",
   "execution_count": 9,
   "id": "75612565",
   "metadata": {
    "collapsed": true,
    "jupyter": {
     "outputs_hidden": true
    }
   },
   "outputs": [
    {
     "name": "stdout",
     "output_type": "stream",
     "text": [
      "<div class=\"clearfix\" id=\"primary_column\">\n",
      "<figure class=\"main_image\">\n",
      "<img alt=\"Technicians at NASA’s Jet Propulsion Laboratory lower the Mars Oxygen In-Situ Resource Utilization Experiment (MOXIE) instrument into the belly of the Perseverance rover. \" id=\"main_image\" src=\"/system/news_items/main_images/8926_25288_mars2020-2019-03-21-104942_-_D2019_0320_RL2605.jpg\"/>\n",
      "<figcaption class=\"main_image_caption\">\n",
      "<p><b>MOXIE Being Installed in Perseverance: </b>Technicians at NASA’s Jet Propulsion Laboratory lower the Mars Oxygen In-Situ Resource Utilization Experiment (MOXIE) instrument into the belly of the Perseverance rover. Credit: NASA/JPL-Caltech. <a href=\"/resources/25288\">Full image and caption ›</a></p>\n",
      "</figcaption>\n",
      "</figure>\n",
      "<div class=\"wysiwyg_content\">\n",
      "<hr/>\n",
      "<p><i>The milestone, which the MOXIE instrument achieved by converting carbon dioxide into oxygen, points the way to future human exploration of the Red Planet. </i></p>\n",
      "<hr/>\n",
      "<p>The growing list of “firsts” for Perseverance, NASA’s newest six-wheeled robot on the Martian surface, includes converting some of the Red Planet’s thin, carbon dioxide-rich atmosphere into oxygen. A toaster-size, experimental instrument aboard Perseverance called the Mars Oxygen In-Situ Resource Utilization Experiment (<a href=\"https://mars.nasa.gov/mars2020/spacecraft/instruments/moxie/\">MOXIE</a>) accomplished the task. The test took place April 20, the 60th Martian day, or sol, since the mission landed Feb. 18.</p>\n",
      "<p>While the technology demonstration is just getting started, it could pave the way for science fiction to become science fact – isolating and storing oxygen on Mars to help power rockets that could lift astronauts off the planet’s surface. Such devices also might one day provide breathable air for astronauts themselves. MOXIE is an exploration technology investigation – as is the Mars Environmental Dynamics Analyzer (<a href=\"https://mars.nasa.gov/news/8909/nasas-first-weather-report-from-jezero-crater-on-mars/\">MEDA</a>) weather station – and is sponsored by NASA’s Space Technology Mission Directorate (STMD) and Human Exploration and Operations Mission Directorate.</p>\n",
      "<p>“This is a critical first step at converting carbon dioxide to oxygen on Mars,” said Jim Reuter, associate administrator STMD. “MOXIE has more work to do, but the results from this technology demonstration are full of promise as we move toward our goal of one day seeing humans on Mars. Oxygen isn’t just the stuff we breathe. Rocket propellant depends on oxygen, and future explorers will depend on producing propellant on Mars to make the trip home.”</p>\n",
      "<p>For rockets or astronauts, oxygen is key, said MOXIE’s principal investigator, Michael Hecht of the Massachusetts Institute of Technology’s Haystack Observatory.</p>\n",
      "<p><span></span></p><div class=\"column-width image_module\" style=\"\">\n",
      "<figure class=\"inline_figure\">\n",
      "<a class=\"inline_image_enlarge fancybox\" href=\"/system/internal_resources/details/original/1032_MOXIE_Oxygen_Produced.jpeg\">\n",
      "<img alt=\"MOXIE Oxygen Produced\" src=\"/internal_resources/1032\"/>\n",
      "<div class=\"enlarge_icon\"></div>\n",
      "</a>\n",
      "<figcaption>\n",
      "After a two-hour warmup period, MOXIE began producing oxygen at a rate of 6 grams per hour. The was reduced two times during the run (labeled as “current sweeps”) in order to assess the status of the instrument. After an hour of operation the total oxygen produced was about 5.4 grams, enough to keep an astronaut healthy for about 10 minutes of normal activity.<br/>\n",
      "<span>Credit: MIT Haystack Observatory\n",
      "</span></figcaption>\n",
      "</figure>\n",
      "</div><p></p>\n",
      "<p>To burn its fuel, a rocket must have more oxygen by weight. To get four astronauts off the Martian surface on a future mission would require approximately 15,000 pounds (7 metric tons) of rocket fuel and 55,000 pounds (25 metric tons) of oxygen. In contrast, astronauts living and working on Mars would require far less oxygen to breathe. “The astronauts who spend a year on the surface will maybe use one metric ton between them,” Hecht said.</p>\n",
      "<p>Hauling 25 metric tons of oxygen from Earth to Mars would be an arduous task. Transporting a one-ton oxygen converter – a larger, more powerful descendant of MOXIE that could produce those 25 tons – would be far more economical and practical.</p>\n",
      "<p>Mars’ atmosphere is 96% carbon dioxide. MOXIE works by separating oxygen atoms from carbon dioxide molecules, which are made up of one carbon atom and two oxygen atoms. A waste product, carbon monoxide, is emitted into the Martian atmosphere.</p>\n",
      "<p>The conversion process requires high levels of heat to reach a temperature of approximately 1,470 degrees Fahrenheit (800 Celsius). To accommodate this, the MOXIE unit is made with heat-tolerant materials. These include 3D-printed nickel alloy parts, which heat and cool the gases flowing through it, and a lightweight aerogel that helps hold in the heat. A thin gold coating on the outside of MOXIE reflects infrared heat, keeping it from radiating outward and potentially damaging other parts of Perseverance.</p>\n",
      "<div class=\"column-width image_module\" style=\"\">\n",
      "<figure class=\"inline_figure\">\n",
      "<a class=\"inline_image_enlarge fancybox\" href=\"/system/internal_resources/details/original/1033_Illustration_of_the_MOXIE_instrument__depicting_the_elements_within_the_instrument._.gif\">\n",
      "<img alt=\"Illustration of the MOXIE instrument, depicting the elements within the instrument.\" src=\"/internal_resources/1033\"/>\n",
      "<div class=\"enlarge_icon\"></div>\n",
      "</a>\n",
      "<figcaption>\n",
      "Illustration of the MOXIE instrument, depicting the elements within the instrument. Credits: NASA/JPL-Caltech. <a href=\"https://mars.nasa.gov/resources/25407\">Download image ›</a>\n",
      "</figcaption>\n",
      "</figure>\n",
      "</div>\n",
      "<p>In this first operation, MOXIE’s oxygen production was quite modest – about 5 grams, equivalent to about 10 minutes’ worth of breathable oxygen for an astronaut. MOXIE is designed to generate up to 10 grams of oxygen per hour.</p>\n",
      "<p>This technology demonstration was designed to ensure the instrument survived the launch from Earth, a nearly seven-month journey through deep space, and touchdown with Perseverance on Feb. 18. MOXIE is expected to extract oxygen at least nine more times over the course of a Martian year (nearly two years on Earth).</p>\n",
      "<p>These oxygen-production runs will come in three phases. The first phase will check out and characterize the instrument’s function, while the second phase will run the instrument in varying atmospheric conditions, such as different times of day and seasons. In the third phase, Hecht said, “we’ll push the envelope” – trying new operating modes, or introducing “new wrinkles, such as a run where we compare operations at three or more different temperatures.”</p>\n",
      "<p>“MOXIE isn’t just the first instrument to produce oxygen on another world,” said Trudy Kortes, director of <a href=\"https://www.nasa.gov/mission_pages/tdm/main/index.html\" target=\"_blank\">technology demonstrations</a> within STMD. It’s the first technology of its kind that will help future missions “live off the land,” using elements of another world’s environment, also known as <a href=\"https://www.nasa.gov/isru\" target=\"_blank\">in-situ resource utilization</a>.</p>\n",
      "<p>“It’s taking regolith, the substance you find on the ground, and putting it through a processing plant, making it into a large structure, or taking carbon dioxide – the bulk of the atmosphere – and converting it into oxygen,” she said. “This process allows us to convert these abundant materials into useable things: propellant, breathable air, or, combined with hydrogen, water.”</p>\n",
      "<p><b>More About Perseverance</b></p>\n",
      "<p>A key objective of Perseverance’s mission on Mars is <a href=\"https://astrobiology.nasa.gov/\" target=\"_blank\">astrobiology</a>, including the search for signs of ancient microbial life. The rover will characterize the planet’s geology and past climate, pave the way for human exploration of the Red Planet, and be the first mission to collect and cache Martian rock and regolith (broken rock and dust).</p>\n",
      "<p>Subsequent NASA missions, in cooperation with ESA (European Space Agency), would send spacecraft to Mars to collect these sealed samples from the surface and return them to Earth for in-depth analysis.</p>\n",
      "<p>The Mars 2020 Perseverance mission is part of NASA’s Moon to Mars exploration approach, which includes <a href=\"https://www.nasa.gov/specials/artemis/\" target=\"_blank\">Artemis</a> missions to the Moon that will help prepare for human exploration of the Red Planet.</p>\n",
      "<p>NASA’s Jet Propulsion Laboratory in Southern California, which is managed for NASA by Caltech in Pasadena, California, built and manages operations of the Perseverance rover.</p>\n",
      "<p>For more about Perseverance:</p>\n",
      "<p><a href=\"https://mars.nasa.gov/mars2020/\"><b>https://mars.nasa.gov/mars2020/</b></a></p>\n",
      "<p>and</p>\n",
      "<p><a href=\"https://www.nasa.gov/perseverance\"><b>https://www.nasa.gov/perseverance</b></a></p>\n",
      "<p><b>News Media Contacts</b></p>\n",
      "<p>Karen Fox / Alana Johnson / Clare Skelly<br/>\n",
      "Headquarters, Washington<br/>\n",
      "301-286-6284 / 202-358-1501/ 202-515-6654<br/>\n",
      "<a href=\"mailto:karen.c.fox@nasa.gov\">karen.c.fox@nasa.gov</a> / <a href=\"mailto:alana.r.johnson@nasa.gov\">alana.r.johnson@nasa.gov</a> / <a href=\"mailto:clare.a.skelly@nasa.gov\">clare.a.skelly@nasa.gov</a></p>\n",
      "<p>Andrew Good<br/>\n",
      "Jet Propulsion Laboratory, Pasadena, Calif.<br/>\n",
      "818-393-2433<br/>\n",
      "<a href=\"mailto:andrew.c.good@jpl.nasa.gov\">andrew.c.good@jpl.nasa.gov</a></p>\n",
      "</div>\n",
      "</div>\n"
     ]
    }
   ],
   "source": [
    "driver.get(href)\n",
    "time.sleep(3)\n",
    "html=driver.page_source\n",
    "soup=bs(html)\n",
    "results2=soup.find(\"div\", id=\"primary_column\")\n",
    "print(results2)"
   ]
  },
  {
   "cell_type": "code",
   "execution_count": 10,
   "id": "721ae941",
   "metadata": {
    "collapsed": true,
    "jupyter": {
     "outputs_hidden": true
    }
   },
   "outputs": [
    {
     "name": "stdout",
     "output_type": "stream",
     "text": [
      "MOXIE Being Installed in Perseverance: Technicians at NASA’s Jet Propulsion Laboratory lower the Mars Oxygen In-Situ Resource Utilization Experiment (MOXIE) instrument into the belly of the Perseverance rover. Credit: NASA/JPL-Caltech. Full image and caption ›\n",
      "The milestone, which the MOXIE instrument achieved by converting carbon dioxide into oxygen, points the way to future human exploration of the Red Planet. \n",
      "The growing list of “firsts” for Perseverance, NASA’s newest six-wheeled robot on the Martian surface, includes converting some of the Red Planet’s thin, carbon dioxide-rich atmosphere into oxygen. A toaster-size, experimental instrument aboard Perseverance called the Mars Oxygen In-Situ Resource Utilization Experiment (MOXIE) accomplished the task. The test took place April 20, the 60th Martian day, or sol, since the mission landed Feb. 18.\n",
      "While the technology demonstration is just getting started, it could pave the way for science fiction to become science fact – isolating and storing oxygen on Mars to help power rockets that could lift astronauts off the planet’s surface. Such devices also might one day provide breathable air for astronauts themselves. MOXIE is an exploration technology investigation – as is the Mars Environmental Dynamics Analyzer (MEDA) weather station – and is sponsored by NASA’s Space Technology Mission Directorate (STMD) and Human Exploration and Operations Mission Directorate.\n",
      "“This is a critical first step at converting carbon dioxide to oxygen on Mars,” said Jim Reuter, associate administrator STMD. “MOXIE has more work to do, but the results from this technology demonstration are full of promise as we move toward our goal of one day seeing humans on Mars. Oxygen isn’t just the stuff we breathe. Rocket propellant depends on oxygen, and future explorers will depend on producing propellant on Mars to make the trip home.”\n",
      "For rockets or astronauts, oxygen is key, said MOXIE’s principal investigator, Michael Hecht of the Massachusetts Institute of Technology’s Haystack Observatory.\n",
      "\n",
      "\n",
      "To burn its fuel, a rocket must have more oxygen by weight. To get four astronauts off the Martian surface on a future mission would require approximately 15,000 pounds (7 metric tons) of rocket fuel and 55,000 pounds (25 metric tons) of oxygen. In contrast, astronauts living and working on Mars would require far less oxygen to breathe. “The astronauts who spend a year on the surface will maybe use one metric ton between them,” Hecht said.\n",
      "Hauling 25 metric tons of oxygen from Earth to Mars would be an arduous task. Transporting a one-ton oxygen converter – a larger, more powerful descendant of MOXIE that could produce those 25 tons – would be far more economical and practical.\n",
      "Mars’ atmosphere is 96% carbon dioxide. MOXIE works by separating oxygen atoms from carbon dioxide molecules, which are made up of one carbon atom and two oxygen atoms. A waste product, carbon monoxide, is emitted into the Martian atmosphere.\n",
      "The conversion process requires high levels of heat to reach a temperature of approximately 1,470 degrees Fahrenheit (800 Celsius). To accommodate this, the MOXIE unit is made with heat-tolerant materials. These include 3D-printed nickel alloy parts, which heat and cool the gases flowing through it, and a lightweight aerogel that helps hold in the heat. A thin gold coating on the outside of MOXIE reflects infrared heat, keeping it from radiating outward and potentially damaging other parts of Perseverance.\n",
      "In this first operation, MOXIE’s oxygen production was quite modest – about 5 grams, equivalent to about 10 minutes’ worth of breathable oxygen for an astronaut. MOXIE is designed to generate up to 10 grams of oxygen per hour.\n",
      "This technology demonstration was designed to ensure the instrument survived the launch from Earth, a nearly seven-month journey through deep space, and touchdown with Perseverance on Feb. 18. MOXIE is expected to extract oxygen at least nine more times over the course of a Martian year (nearly two years on Earth).\n",
      "These oxygen-production runs will come in three phases. The first phase will check out and characterize the instrument’s function, while the second phase will run the instrument in varying atmospheric conditions, such as different times of day and seasons. In the third phase, Hecht said, “we’ll push the envelope” – trying new operating modes, or introducing “new wrinkles, such as a run where we compare operations at three or more different temperatures.”\n",
      "“MOXIE isn’t just the first instrument to produce oxygen on another world,” said Trudy Kortes, director of technology demonstrations within STMD. It’s the first technology of its kind that will help future missions “live off the land,” using elements of another world’s environment, also known as in-situ resource utilization.\n",
      "“It’s taking regolith, the substance you find on the ground, and putting it through a processing plant, making it into a large structure, or taking carbon dioxide – the bulk of the atmosphere – and converting it into oxygen,” she said. “This process allows us to convert these abundant materials into useable things: propellant, breathable air, or, combined with hydrogen, water.”\n",
      "More About Perseverance\n",
      "A key objective of Perseverance’s mission on Mars is astrobiology, including the search for signs of ancient microbial life. The rover will characterize the planet’s geology and past climate, pave the way for human exploration of the Red Planet, and be the first mission to collect and cache Martian rock and regolith (broken rock and dust).\n",
      "Subsequent NASA missions, in cooperation with ESA (European Space Agency), would send spacecraft to Mars to collect these sealed samples from the surface and return them to Earth for in-depth analysis.\n",
      "The Mars 2020 Perseverance mission is part of NASA’s Moon to Mars exploration approach, which includes Artemis missions to the Moon that will help prepare for human exploration of the Red Planet.\n",
      "NASA’s Jet Propulsion Laboratory in Southern California, which is managed for NASA by Caltech in Pasadena, California, built and manages operations of the Perseverance rover.\n",
      "For more about Perseverance:\n",
      "https://mars.nasa.gov/mars2020/\n",
      "and\n",
      "https://www.nasa.gov/perseverance\n",
      "News Media Contacts\n",
      "Karen Fox / Alana Johnson / Clare Skelly\n",
      "Headquarters, Washington\n",
      "301-286-6284 / 202-358-1501/ 202-515-6654\n",
      "karen.c.fox@nasa.gov / alana.r.johnson@nasa.gov / clare.a.skelly@nasa.gov\n",
      "Andrew Good\n",
      "Jet Propulsion Laboratory, Pasadena, Calif.\n",
      "818-393-2433\n",
      "andrew.c.good@jpl.nasa.gov\n"
     ]
    }
   ],
   "source": [
    "paragraphs = results2.find_all('p')\n",
    "for paragraph in paragraphs:\n",
    "    print(paragraph.text)"
   ]
  },
  {
   "cell_type": "code",
   "execution_count": 11,
   "id": "35ddf217",
   "metadata": {},
   "outputs": [],
   "source": [
    "mars_image_url=\"https://data-class-jpl-space.s3.amazonaws.com/JPL_Space/index.html\""
   ]
  },
  {
   "cell_type": "code",
   "execution_count": 12,
   "id": "3abed645",
   "metadata": {},
   "outputs": [
    {
     "name": "stdout",
     "output_type": "stream",
     "text": [
      "image/featured/mars1.jpg\n"
     ]
    }
   ],
   "source": [
    "driver.get(mars_image_url)\n",
    "time.sleep(3)\n",
    "html=driver.page_source\n",
    "soup=bs(html)\n",
    "img=soup.find(class_=\"showimg\")\n",
    "for link in soup(\"a\", \"showimg\", href=True):\n",
    "    img_href=(link['href'])\n",
    "print(img_href)"
   ]
  },
  {
   "cell_type": "code",
   "execution_count": 48,
   "id": "f6253e41",
   "metadata": {},
   "outputs": [
    {
     "name": "stdout",
     "output_type": "stream",
     "text": [
      "\"https://data-class-jpl-space.s3.amazonaws.com/JPL_Spaceimage/featured/mars1.jpg\"\n"
     ]
    }
   ],
   "source": [
    "print(f'\"https://data-class-jpl-space.s3.amazonaws.com/JPL_Space{img_href}\"')"
   ]
  },
  {
   "cell_type": "code",
   "execution_count": 14,
   "id": "8f0ddd80",
   "metadata": {},
   "outputs": [],
   "source": [
    "mars_url=\"https://space-facts.com/mars/\""
   ]
  },
  {
   "cell_type": "code",
   "execution_count": 15,
   "id": "5d6a4569",
   "metadata": {},
   "outputs": [],
   "source": [
    "mars_df=pd.read_html(mars_url)[0]"
   ]
  },
  {
   "cell_type": "code",
   "execution_count": 16,
   "id": "b3eabdf4",
   "metadata": {},
   "outputs": [],
   "source": [
    "html_string=mars_df.to_html()\n",
    "   "
   ]
  },
  {
   "cell_type": "code",
   "execution_count": 58,
   "id": "87bbc018",
   "metadata": {},
   "outputs": [],
   "source": [
    "hemispheres_url=\"https://astrogeology.usgs.gov/search/results?q=hemisphere+enhanced&k1=target&v1=Mars\""
   ]
  },
  {
   "cell_type": "code",
   "execution_count": 50,
   "id": "1109e95b",
   "metadata": {},
   "outputs": [],
   "source": [
    "# driver.get(hemispheres_url)\n",
    "# time.sleep(5)\n",
    "# html=driver.page_source\n",
    "# soup=bs(html)"
   ]
  },
  {
   "cell_type": "code",
   "execution_count": 51,
   "id": "1507b574",
   "metadata": {},
   "outputs": [],
   "source": [
    "# new_html=driver.find_element_by_xpath(\"/html/body/div[1]/div[1]/div[2]/section/div/div[2]/div[1]/div/a\").click()\n",
    "# time.sleep(4)\n"
   ]
  },
  {
   "cell_type": "code",
   "execution_count": 53,
   "id": "391794d6",
   "metadata": {},
   "outputs": [
    {
     "name": "stdout",
     "output_type": "stream",
     "text": [
      "[]\n"
     ]
    }
   ],
   "source": [
    "# res2=soup.find_all(class_=\"content\")\n",
    "# print(res2)"
   ]
  },
  {
   "cell_type": "code",
   "execution_count": 59,
   "id": "1bcdf9af",
   "metadata": {},
   "outputs": [],
   "source": [
    "urls=[]\n",
    "hemisphere_image_urls=[]\n",
    "hemisphere_titles=[]"
   ]
  },
  {
   "cell_type": "code",
   "execution_count": 66,
   "id": "367d3c3e",
   "metadata": {},
   "outputs": [],
   "source": [
    "browser.visit(hemispheres_url)\n",
    "for url in urls:\n",
    "    browser.links.find_by_partial_text('Hemisphere').click()\n",
    "    html = browser.html\n",
    "    soup = bs(html, 'html.parser')\n",
    "    \n",
    "    res = soup.find_all('div', class_='downloads')\n",
    "    \n",
    "    hemisphere_image_urls=res[0].find(\"a\")\n",
    "    hemisphere_image_urls=hemisphere_image_urls['href']\n",
    "    hemisphere_image_urls.append()\n",
    "    \n",
    "    soup = bs(html, 'html.parser')\n",
    "    res2=soup.find_all('div', class_='content')\n",
    "    break"
   ]
  },
  {
   "cell_type": "code",
   "execution_count": 67,
   "id": "db7441d4",
   "metadata": {},
   "outputs": [
    {
     "name": "stdout",
     "output_type": "stream",
     "text": [
      "[]\n"
     ]
    }
   ],
   "source": [
    "print(res2)\n"
   ]
  },
  {
   "cell_type": "code",
   "execution_count": 40,
   "id": "c9f3028b",
   "metadata": {},
   "outputs": [
    {
     "name": "stdout",
     "output_type": "stream",
     "text": [
      "https://astropedia.astrogeology.usgs.gov/download/Mars/Viking/cerberus_enhanced.tif/full.jpg\n"
     ]
    }
   ],
   "source": []
  },
  {
   "cell_type": "code",
   "execution_count": 25,
   "id": "3460629e",
   "metadata": {},
   "outputs": [
    {
     "name": "stdout",
     "output_type": "stream",
     "text": [
      "None\n"
     ]
    }
   ],
   "source": [
    "soup=bs(html)\n",
    "res=soup.find(class_=\"downloads\")\n",
    "#for link in soup(\"a\", \"wide-image\", href=True):\n",
    "    #img_href=(link['href'])\n",
    "print(res)"
   ]
  },
  {
   "cell_type": "code",
   "execution_count": 21,
   "id": "636d326c",
   "metadata": {},
   "outputs": [
    {
     "ename": "SyntaxError",
     "evalue": "unexpected EOF while parsing (<ipython-input-21-0313dacebdf2>, line 1)",
     "output_type": "error",
     "traceback": [
      "\u001b[1;36m  File \u001b[1;32m\"<ipython-input-21-0313dacebdf2>\"\u001b[1;36m, line \u001b[1;32m1\u001b[0m\n\u001b[1;33m    {\"https://astrogeology.usgs.gov/cache/images/f5e372a36edfa389625da6d0cc25d905_cerberus_enhanced.tif_full.jpg\"\u001b[0m\n\u001b[1;37m                                                                                                                 ^\u001b[0m\n\u001b[1;31mSyntaxError\u001b[0m\u001b[1;31m:\u001b[0m unexpected EOF while parsing\n"
     ]
    }
   ],
   "source": [
    "{\"https://astrogeology.usgs.gov/cache/images/f5e372a36edfa389625da6d0cc25d905_cerberus_enhanced.tif_full.jpg\""
   ]
  }
 ],
 "metadata": {
  "kernelspec": {
   "display_name": "Python 3",
   "language": "python",
   "name": "python3"
  },
  "language_info": {
   "codemirror_mode": {
    "name": "ipython",
    "version": 3
   },
   "file_extension": ".py",
   "mimetype": "text/x-python",
   "name": "python",
   "nbconvert_exporter": "python",
   "pygments_lexer": "ipython3",
   "version": "3.6.10"
  }
 },
 "nbformat": 4,
 "nbformat_minor": 5
}
