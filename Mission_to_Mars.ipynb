{
 "cells": [
  {
   "cell_type": "code",
   "execution_count": 1,
   "id": "887f2164",
   "metadata": {},
   "outputs": [
    {
     "name": "stderr",
     "output_type": "stream",
     "text": [
      "[WDM] - ====== WebDriver manager ======\n",
      "[WDM] - Current google-chrome version is 89.0.4389\n",
      "[WDM] - Get LATEST driver version for 89.0.4389\n"
     ]
    },
    {
     "name": "stdout",
     "output_type": "stream",
     "text": [
      "\n",
      "\n"
     ]
    },
    {
     "name": "stderr",
     "output_type": "stream",
     "text": [
      "[WDM] - Driver [C:\\Users\\brand\\.wdm\\drivers\\chromedriver\\win32\\89.0.4389.23\\chromedriver.exe] found in cache\n"
     ]
    }
   ],
   "source": [
    "from selenium import webdriver\n",
    "from bs4 import BeautifulSoup as bs\n",
    "import time\n",
    "from webdriver_manager.chrome import ChromeDriverManager\n",
    "from selenium.webdriver.common.keys import Keys\n",
    "import pandas as pd\n",
    "import requests as r\n",
    "from splinter import Browser\n",
    "executable_path = {'executable_path': ChromeDriverManager().install()}\n",
    "browser = Browser('chrome', **executable_path, headless=False)"
   ]
  },
  {
   "cell_type": "code",
   "execution_count": 2,
   "id": "151a1866",
   "metadata": {},
   "outputs": [
    {
     "name": "stderr",
     "output_type": "stream",
     "text": [
      "[WDM] - ====== WebDriver manager ======\n",
      "[WDM] - Current google-chrome version is 89.0.4389\n",
      "[WDM] - Get LATEST driver version for 89.0.4389\n",
      "[WDM] - Driver [C:\\Users\\brand\\.wdm\\drivers\\chromedriver\\win32\\89.0.4389.23\\chromedriver.exe] found in cache\n"
     ]
    },
    {
     "name": "stdout",
     "output_type": "stream",
     "text": [
      "\n",
      "\n"
     ]
    }
   ],
   "source": [
    "driver = webdriver.Chrome(ChromeDriverManager().install())"
   ]
  },
  {
   "cell_type": "code",
   "execution_count": 3,
   "id": "8dfbdc5e",
   "metadata": {},
   "outputs": [],
   "source": [
    "url=\"https://mars.nasa.gov/news/\""
   ]
  },
  {
   "cell_type": "code",
   "execution_count": 4,
   "id": "ece243f3",
   "metadata": {},
   "outputs": [],
   "source": [
    "news_title=[]\n",
    "news_p=[]"
   ]
  },
  {
   "cell_type": "code",
   "execution_count": 5,
   "id": "ff3c09b2",
   "metadata": {},
   "outputs": [
    {
     "name": "stdout",
     "output_type": "stream",
     "text": [
      "<div class=\"content_title\">Mars Now</div>\n"
     ]
    }
   ],
   "source": [
    "driver.get(url)\n",
    "time.sleep(3)\n",
    "html=driver.page_source\n",
    "soup = bs(html)\n",
    "results=soup.find_all(class_=\"content_title\")\n",
    "news_title=results[0]\n",
    "print(news_title)"
   ]
  },
  {
   "cell_type": "code",
   "execution_count": 6,
   "id": "03288bec",
   "metadata": {},
   "outputs": [],
   "source": [
    "item_list=soup.find(class_=\"item_list\")"
   ]
  },
  {
   "cell_type": "code",
   "execution_count": 7,
   "id": "1ed4b3ba",
   "metadata": {},
   "outputs": [
    {
     "name": "stdout",
     "output_type": "stream",
     "text": [
      "NASA's Ingenuity Mars Helicopter Succeeds in Historic First Flight\n"
     ]
    }
   ],
   "source": [
    "results=item_list.find_all(class_=\"content_title\")\n",
    "news_title=results[0].text\n",
    "print(news_title)"
   ]
  },
  {
   "cell_type": "code",
   "execution_count": 8,
   "id": "08913e9a",
   "metadata": {},
   "outputs": [
    {
     "name": "stdout",
     "output_type": "stream",
     "text": [
      "https://mars.nasa.gov/news/8923/nasas-ingenuity-mars-helicopter-succeeds-in-historic-first-flight/\n"
     ]
    }
   ],
   "source": [
    "href=driver.find_element_by_xpath('//*[@id=\"page\"]/div[3]/div/article/div/section/div/ul/li[1]/div/div/div[2]/a').get_attribute(\"href\")\n",
    "print(href)"
   ]
  },
  {
   "cell_type": "code",
   "execution_count": 9,
   "id": "17168a64",
   "metadata": {},
   "outputs": [
    {
     "name": "stdout",
     "output_type": "stream",
     "text": [
      "<div class=\"clearfix\" id=\"primary_column\">\n",
      "<figure class=\"main_image\">\n",
      "<img alt=\"NASA’s Ingenuity Mars Helicopter took this shot while hovering over the Martian surface on April 19, 2021, during the first instance of powered, controlled flight on another planet. It used its navigation camera, which autonomously tracks the ground during flight.\" id=\"main_image\" src=\"/system/news_items/main_images/8923_3-PIA24584-Ingenuity's-First-Black-and-White-Heli-Shot-from-the-Air-web.jpg\"/>\n",
      "<figcaption class=\"main_image_caption\">\n",
      "<p><b>Ingenuity's First Black-and-White Image From the Air: </b>NASA’s Ingenuity Mars Helicopter took this shot while hovering over the Martian surface on April 19, 2021, during the first instance of powered, controlled flight on another planet. It used its navigation camera, which autonomously tracks the ground during flight. Credits: <span>NASA/JPL-Caltech. <a href=\"https://mars.nasa.gov/resources/25818/ingenuitys-first-black-and-white-image-from-the-air/\">Full image and caption ›</a></span></p>\n",
      "</figcaption>\n",
      "</figure>\n",
      "<div class=\"wysiwyg_content\">\n",
      "<hr/>\n",
      "<p><i>The small rotorcraft made history, hovering above Jezero Crater, demonstrating that powered, controlled flight on another planet is possible.</i></p>\n",
      "<hr/>\n",
      "<p>Monday, NASA’s Ingenuity Mars Helicopter became the first aircraft in history to make a powered, controlled flight on another planet. The Ingenuity team at the agency’s Jet Propulsion Laboratory in Southern California confirmed the flight succeeded after receiving data from the helicopter via NASA’s Perseverance Mars rover at 6:46 a.m. EDT (3:46 a.m. PDT).</p>\n",
      "<figure class=\"column-width embedded_video video_player_container\">\n",
      "<div class=\"video_wrapper\">\n",
      "<iframe allow=\"accelerometer; autoplay; clipboard-write; encrypted-media; gyroscope; picture-in-picture\" allowfullscreen=\"\" frameborder=\"0\" height=\"360\" src=\"https://www.youtube.com/embed/wMnOo2zcjXA\" title=\"YouTube video player\" width=\"640\"></iframe>\n",
      "</div>\n",
      "<figcaption>\n",
      "<b>First Video of NASA's Ingenuity Mars Helicopter in Flight:</b> In this video captured by NASA’s Perseverance rover, the agency's Ingenuity Mars Helicopter took the first powered, controlled flight on another planet on April 19, 2021. Credits: NASA/JPL-Caltech/ASU/MSSS. <a href=\"http://mars.nasa.gov/resources/25828\">Download video ›</a>\n",
      "</figcaption>\n",
      "</figure>\n",
      "<p>“Ingenuity is the latest in a long and storied tradition of NASA projects achieving a space exploration goal once thought impossible,” said acting NASA Administrator Steve Jurczyk. “The <a href=\"https://www.nasa.gov/specials/60th/x-15/\">X-15</a> was a pathfinder for the space shuttle. Mars Pathfinder and its Sojourner rover did the same for three generations of Mars rovers. We don’t know exactly where Ingenuity will lead us, but today’s results indicate the sky – at least on Mars – may not be the limit.”</p>\n",
      "<p></p><div class=\"column-width image_module\" style=\"\">\n",
      "<figure class=\"inline_figure\">\n",
      "<a class=\"inline_image_enlarge fancybox\" href=\"/system/resources/detail_files/25819_4-PIA24585-web.jpg\">\n",
      "<img alt=\"Members of NASA’s Ingenuity helicopter team in the Space Flight Operations Facility at NASA’s Jet Propulsion Laboratory prepare to receive the data downlink showing whether the helicopter completed its first flight on April 19, 2021.\" src=\"/system/resources/detail_files/25819_4-PIA24585-web.jpg\"/>\n",
      "<div class=\"enlarge_icon\"></div>\n",
      "</a>\n",
      "<figcaption>\n",
      "<b>Ingenuity's Team Waits for Data on Helicopters First Flight</b><span>: Members of NASA’s Ingenuity helicopter team in the Space Flight Operations Facility at NASA’s Jet Propulsion Laboratory prepare to receive the data downlink showing whether the helicopter completed its first flight on April 19, 2021. Credits: NASA/JPL-Caltech. </span><a href=\"/resources/25819/ingenuitys-team-waits-for-data-on-helicopters-first-flight/\">Full image and caption ›</a><span>\n",
      "</span></figcaption>\n",
      "</figure>\n",
      "</div>The solar-powered helicopter first became airborne at 3:34 a.m. EDT (12:34 a.m. PDT) – 12:33 Local Mean Solar Time (Mars time) – a time the Ingenuity team determined would have optimal energy and flight conditions. Altimeter data indicate Ingenuity climbed to its prescribed maximum altitude of 10 feet (3 meters) and maintained a stable hover for 30 seconds. It then descended, touching back down on the surface of Mars after logging a total of 39.1 seconds of flight. Additional details on the test are expected in upcoming downlinks.<p></p>\n",
      "<p>Ingenuity’s initial flight demonstration was autonomous – piloted by onboard guidance, navigation, and control systems running algorithms developed by the team at JPL. Because data must be sent to and returned from the Red Planet over hundreds of millions of miles using orbiting satellites and NASA’s <a href=\"https://www.nasa.gov/directorates/heo/scan/services/networks/deep_space_network/about\">Deep Space Network</a>, Ingenuity cannot be flown with a joystick, and its flight was not observable from Earth in real time.</p>\n",
      "<p></p><div class=\"column-width image_module\" style=\"\">\n",
      "<figure class=\"inline_figure\">\n",
      "<a class=\"inline_image_enlarge fancybox\" href=\"/system/resources/detail_files/25822_PIA24585_b-web.jpg\">\n",
      "<img alt=\"Mars Helicopter Team Awaits First Flight Results\" src=\"/system/resources/detail_files/25822_PIA24585_b-web.jpg\"/>\n",
      "<div class=\"enlarge_icon\"></div>\n",
      "</a>\n",
      "<figcaption>\n",
      "<b>Mars Helicopter Team Awaits First Flight Results:</b> Members of NASA’s Ingenuity helicopter team in the Space Flight Operations Facility at NASA’s Jet Propulsion Laboratory prepare to receive the data downlink showing whether the helicopter completed its first flight on April 19, 2021. Credits: NASA/JPL-Caltech. <a href=\"https://mars.nasa.gov/resources/25822/mars-helicopter-team-awaits-first-flight-results/\">Full image and caption ›</a>\n",
      "</figcaption>\n",
      "</figure>\n",
      "</div><span>NASA Associate Administrator for Science Thomas Zurbuchen announced the name for the Martian airfield on which the flight took place.</span><p></p>\n",
      "<p>“Now, 117 years after the Wright brothers succeeded in making the first flight on our planet, NASA’s Ingenuity helicopter has succeeded in performing this amazing feat on another world,” Zurbuchen said. “While these two iconic moments in aviation history may be separated by time and 173 million miles of space, they now will forever be linked. As an homage to the two innovative bicycle makers from Dayton, this first of many airfields on other worlds will now be known as <b>Wright Brothers Field</b>, in recognition of the ingenuity and innovation that continue to propel exploration.”</p>\n",
      "<p>Ingenuity’s chief pilot, Håvard Grip, announced that the International Civil Aviation Organization (ICAO) – the United Nations’ civil aviation agency – presented NASA and the Federal Aviation Administration with official ICAO designator IGY, call-sign INGENUITY.</p>\n",
      "<p>These details will be included officially in the next edition of ICAO’s publication <a href=\"https://urldefense.us/v3/__https:/gcc02.safelinks.protection.outlook.com/?url=https*3A*2F*2Fsecure-web.cisco.com*2F1zuRjtBmX0A-hrAEKF_qDnSVfJszxhnRAbh3kVVpJ2Bwc4Vvg1OJiDXuh1yE1hghiQVYYhVea0uYIKQ9tjpmKjtx93TYsdGNiisgFs1uVsb201MTfT1_Ka2SGklU5O9cCYPV3f7lPV7mmwTvRTaKn69vrNH8VEv2Mbt1YWHAxSyLMGUYD014ukj4n5vJLKVQwVEQaMHBdgbSvW3R-Io55LrgVZ0Zk3luNcb_4jcBNXIXBTlA_9qrS_rOSTKSSvsXdCrhAwlbyzsm5hMLb8qIt07v9r8vhtHjd40DC6PlR9RmK-SkZQkj7nmL4Z15pVL7P*2Fhttps*253A*252F*252Fstore.icao.int*252Fen*252Fdesignators-for-aircraft-operating-agencies-aeronautical-authorities-and-services-doc-8585&amp;data=04*7C01*7Cgrey.hautaluoma-1*40nasa.gov*7Cc65792190d62443ff25808d902d0a562*7C7005d45845be48ae8140d43da96dd17b*7C0*7C0*7C637543917426185431*7CUnknown*7CTWFpbGZsb3d8eyJWIjoiMC4wLjAwMDAiLCJQIjoiV2luMzIiLCJBTiI6Ik1haWwiLCJXVCI6Mn0*3D*7C1000&amp;sdata=uKuCNLPDTJ8g2GyblLdEPiCyn9ea4Cd0l*2FK9VmWij7Y*3D&amp;reserved=0__;JSUlJSUlJSUlJSUlJSUlJSUlJSUlJSUl!!PvBDto6Hs4WbVuu7!aFe1WtK3Bvx3rkK2_vnhVz7FmckxQ-SIuCCxGrKglPyHIBnG9T7NJkIBw4TuIViMMQ$\">Designators for Aircraft Operating Agencies, Aeronautical Authorities and Services</a>. The location of the flight has also been given the ceremonial location designation JZRO for Jezero Crater.</p>\n",
      "<p>As one of NASA’s <a href=\"https://urldefense.us/v3/__https:/www.nasa.gov/mission_pages/tdm/main/index.html__;!!PvBDto6Hs4WbVuu7!aFe1WtK3Bvx3rkK2_vnhVz7FmckxQ-SIuCCxGrKglPyHIBnG9T7NJkIBw4TPP_cO5w$\">technology demonstration projects</a>, the 19.3-inch-tall (49-centimeter-tall) Ingenuity Mars Helicopter contains no science instruments inside its tissue-box-size fuselage. Instead, the 4-pound (1.8-kg) rotorcraft is intended to demonstrate whether future exploration of the Red Planet could include an aerial perspective. </p>\n",
      "<p><span></span></p><div class=\"column-width image_module\" style=\"\">\n",
      "<figure class=\"inline_figure\">\n",
      "<a class=\"inline_image_enlarge fancybox\" href=\"/system/resources/detail_files/25817_PIA24586-800.gif\">\n",
      "<img alt=\"NASA’s Ingenuity Mars Helicopter achieves powered, controlled flight for the first time on another planet, hovering for several seconds before touching back down on April 19, 2021. \" src=\"/system/resources/detail_files/25817_PIA24586-800.gif\"/>\n",
      "<div class=\"enlarge_icon\"></div>\n",
      "</a>\n",
      "<figcaption>\n",
      "<b>Perseverance's Navcam View of Ingenuity's First Flight: </b><span>NASA’s Ingenuity Mars Helicopter achieves powered, controlled flight for the first time on another planet, hovering for several seconds before touching back down on April 19, 2021. The image was taken by the Navcam aboard the agency’s Perseverance Mars rover. Credits: NASA/JPL-Caltech. </span><a href=\"/resources/25817/perseverances-navcam-view-of-ingenuitys-first-flight/\">Full image and caption ›</a><span>\n",
      "</span></figcaption>\n",
      "</figure>\n",
      "</div><p></p>\n",
      "<p>This first flight was full of unknowns. The Red Planet has a significantly lower gravity – one-third that of Earth’s – and an extremely thin atmosphere with only 1% the pressure at the surface compared to our planet. This means there are relatively few air molecules with which Ingenuity’s two 4-foot-wide (1.2-meter-wide) rotor blades can interact to achieve flight. The helicopter contains unique components, as well as off-the-shelf-commercial parts – many from the smartphone industry – that were tested in deep space for the first time with this mission. </p>\n",
      "<p>“The Mars Helicopter project has gone from ‘blue sky’ feasibility study to workable engineering concept to achieving the first flight on another world in a little over six years,” said Michael Watkins, director of JPL. “That this project has achieved such a historic first is testimony to the innovation and doggedness of our team here at JPL, as well as at NASA’s Langley and Ames Research Centers, and our industry partners. It’s a shining example of the kind of technology push that thrives at JPL and fits well with NASA’s exploration goals.”</p>\n",
      "<div class=\"column-width image_module\" style=\"\">\n",
      "<figure class=\"inline_figure\">\n",
      "<a class=\"inline_image_enlarge fancybox\" href=\"/system/resources/detail_files/25824_PIA24499-1200.jpg\">\n",
      "<img alt=\"Ingenuity's Team Reacts to Data Showing It Completed Its First Flight\" src=\"/system/resources/detail_files/25824_PIA24499-1200.jpg\"/>\n",
      "<div class=\"enlarge_icon\"></div>\n",
      "</a>\n",
      "<figcaption>\n",
      "<b>Ingenuity's Team Reacts to Data Showing It Completed Its First Flight:</b> Members of NASA’s Ingenuity helicopter team in the Space Flight Operations Facility at NASA’s Jet Propulsion Laboratory react to data showing that the helicopter completed its first flight on April 19, 2021. Credits: NASA/JPL-Caltech. <a href=\"/resources/25824/ingenuitys-team-reacts-to-data-showing-it-completed-its-first-flight/\">Full image and caption ›</a>\n",
      "</figcaption>\n",
      "</figure>\n",
      "</div>\n",
      "<p><span>Parked about 211 feet (64.3 meters) away at </span><a href=\"https://photojournal.jpl.nasa.gov/catalog/PIA24435\">Van Zyl Overlook</a><span> during Ingenuity’s historic first flight, the Perseverance rover not only acted as a communications relay between the helicopter and Earth, but also chronicled the flight operations with its cameras. The pictures from the rover’s </span><a href=\"https://urldefense.us/v3/__https:/mars.nasa.gov/mars2020/spacecraft/instruments/mastcam-z/__;!!PvBDto6Hs4WbVuu7!aFe1WtK3Bvx3rkK2_vnhVz7FmckxQ-SIuCCxGrKglPyHIBnG9T7NJkIBw4SLivrVrw$\">Mastcam-Z</a><span> and </span><a href=\"https://urldefense.us/v3/__https:/mars.nasa.gov/mars2020/spacecraft/rover/cameras/*NavCams-Engineering-Cameras__;Iw!!PvBDto6Hs4WbVuu7!aFe1WtK3Bvx3rkK2_vnhVz7FmckxQ-SIuCCxGrKglPyHIBnG9T7NJkIBw4TtYQIKJw$\">Navcam</a><span> imagers will provide additional data on the helicopter’s flight.  </span></p>\n",
      "<p>“We have been thinking for so long about having our Wright brothers moment on Mars, and here it is,” said MiMi Aung, project manager of the Ingenuity Mars Helicopter at JPL. “We will take a moment to celebrate our success and then take a cue from Orville and Wilbur regarding what to do next. History shows they got back to work – to learn as much as they could about their new aircraft – and so will we.”</p>\n",
      "<p>Perseverance <a href=\"https://www.nasa.gov/press-release/touchdown-nasas-mars-perseverance-rover-safely-lands-on-red-planet\">touched down</a> with Ingenuity attached to its belly on Feb. 18. Deployed to the surface of Jezero Crater on April 3, Ingenuity is currently on the 16th sol, or Martian day, of its 30-sol (31-Earth day) flight test window. Over the next three sols, the helicopter team will receive and analyze all data and imagery from the test and formulate a plan for the second experimental test flight, scheduled for no earlier than April 22. If the helicopter survives the second flight test, the Ingenuity team will consider how best to expand the flight profile.</p>\n",
      "<p><b>More About Ingenuity</b></p>\n",
      "<p>JPL, which built Ingenuity, also manages the technology demonstration project for NASA. It is supported by NASA’s Science, Aeronautics, and Space Technology mission directorates. The agency’s Ames Research Center in California’s Silicon Valley and Langley Research Center in Hampton, Virginia, provided significant flight performance analysis and technical assistance during Ingenuity’s development.</p>\n",
      "<p>Dave Lavery is the program executive for the Ingenuity Mars Helicopter, MiMi Aung is the project manager, and Bob Balaram is chief engineer.</p>\n",
      "<p>For more information about Ingenuity:</p>\n",
      "<p><a href=\"https://go.nasa.gov/ingenuity-press-kit\"><b>https://go.nasa.gov/ingenuity-press-kit</b></a></p>\n",
      "<p>and</p>\n",
      "<p><a href=\"https://mars.nasa.gov/technology/helicopter\"><b>https://mars.nasa.gov/technology/helicopter</b></a></p>\n",
      "<p><b>More About Perseverance</b></p>\n",
      "<p>A key objective for <a href=\"https://www.nasa.gov/perseverance\">Perseverance’s</a> mission on Mars is <a href=\"https://astrobiology.nasa.gov/\">astrobiology</a>, including the search for signs of ancient microbial life. The rover will characterize the planet’s geology and past climate, pave the way for human exploration of the Red Planet, and be the first mission to collect and cache Martian rock and regolith (broken rock and dust).</p>\n",
      "<p>Subsequent NASA missions, in cooperation with ESA (European Space Agency), would send spacecraft to Mars to collect these sealed samples from the surface and return them to Earth for in-depth analysis.</p>\n",
      "<p>JPL built and manages operations of the Perseverance rover. JPL is managed for NASA by Caltech in Pasadena, California.</p>\n",
      "<p><b>News Media Contacts</b></p>\n",
      "<p>Alana Johnson / Grey Hautaluoma<br/>\n",
      "Headquarters, Washington<br/>\n",
      "202-672-4780 / 202-358-0668<br/>\n",
      "<a href=\"mailto:alana.r.johnson@nasa.gov\">alana.r.johnson@nasa.gov</a> / <a href=\"mailto:grey.hautaluoma-1@nasa.gov\">grey.hautaluoma-1@nasa.gov</a></p>\n",
      "<p>DC Agle<br/>\n",
      "Jet Propulsion Laboratory, Pasadena, Calif.<br/>\n",
      "818-393-9011<br/>\n",
      "<a href=\"mailto:agle@jpl.nasa.gov\">agle@jpl.nasa.gov</a></p>\n",
      "</div>\n",
      "</div>\n"
     ]
    }
   ],
   "source": [
    "driver.get(href)\n",
    "time.sleep(3)\n",
    "html=driver.page_source\n",
    "soup=bs(html)\n",
    "results2=soup.find(\"div\", id=\"primary_column\")\n",
    "print(results2)"
   ]
  },
  {
   "cell_type": "code",
   "execution_count": 10,
   "id": "409ee30f",
   "metadata": {},
   "outputs": [
    {
     "name": "stdout",
     "output_type": "stream",
     "text": [
      "Ingenuity's First Black-and-White Image From the Air: NASA’s Ingenuity Mars Helicopter took this shot while hovering over the Martian surface on April 19, 2021, during the first instance of powered, controlled flight on another planet. It used its navigation camera, which autonomously tracks the ground during flight. Credits: NASA/JPL-Caltech. Full image and caption ›\n",
      "The small rotorcraft made history, hovering above Jezero Crater, demonstrating that powered, controlled flight on another planet is possible.\n",
      "Monday, NASA’s Ingenuity Mars Helicopter became the first aircraft in history to make a powered, controlled flight on another planet. The Ingenuity team at the agency’s Jet Propulsion Laboratory in Southern California confirmed the flight succeeded after receiving data from the helicopter via NASA’s Perseverance Mars rover at 6:46 a.m. EDT (3:46 a.m. PDT).\n",
      "“Ingenuity is the latest in a long and storied tradition of NASA projects achieving a space exploration goal once thought impossible,” said acting NASA Administrator Steve Jurczyk. “The X-15 was a pathfinder for the space shuttle. Mars Pathfinder and its Sojourner rover did the same for three generations of Mars rovers. We don’t know exactly where Ingenuity will lead us, but today’s results indicate the sky – at least on Mars – may not be the limit.”\n",
      "\n",
      "\n",
      "Ingenuity’s initial flight demonstration was autonomous – piloted by onboard guidance, navigation, and control systems running algorithms developed by the team at JPL. Because data must be sent to and returned from the Red Planet over hundreds of millions of miles using orbiting satellites and NASA’s Deep Space Network, Ingenuity cannot be flown with a joystick, and its flight was not observable from Earth in real time.\n",
      "\n",
      "\n",
      "“Now, 117 years after the Wright brothers succeeded in making the first flight on our planet, NASA’s Ingenuity helicopter has succeeded in performing this amazing feat on another world,” Zurbuchen said. “While these two iconic moments in aviation history may be separated by time and 173 million miles of space, they now will forever be linked. As an homage to the two innovative bicycle makers from Dayton, this first of many airfields on other worlds will now be known as Wright Brothers Field, in recognition of the ingenuity and innovation that continue to propel exploration.”\n",
      "Ingenuity’s chief pilot, Håvard Grip, announced that the International Civil Aviation Organization (ICAO) – the United Nations’ civil aviation agency – presented NASA and the Federal Aviation Administration with official ICAO designator IGY, call-sign INGENUITY.\n",
      "These details will be included officially in the next edition of ICAO’s publication Designators for Aircraft Operating Agencies, Aeronautical Authorities and Services. The location of the flight has also been given the ceremonial location designation JZRO for Jezero Crater.\n",
      "As one of NASA’s technology demonstration projects, the 19.3-inch-tall (49-centimeter-tall) Ingenuity Mars Helicopter contains no science instruments inside its tissue-box-size fuselage. Instead, the 4-pound (1.8-kg) rotorcraft is intended to demonstrate whether future exploration of the Red Planet could include an aerial perspective. \n",
      "\n",
      "\n",
      "This first flight was full of unknowns. The Red Planet has a significantly lower gravity – one-third that of Earth’s – and an extremely thin atmosphere with only 1% the pressure at the surface compared to our planet. This means there are relatively few air molecules with which Ingenuity’s two 4-foot-wide (1.2-meter-wide) rotor blades can interact to achieve flight. The helicopter contains unique components, as well as off-the-shelf-commercial parts – many from the smartphone industry – that were tested in deep space for the first time with this mission. \n",
      "“The Mars Helicopter project has gone from ‘blue sky’ feasibility study to workable engineering concept to achieving the first flight on another world in a little over six years,” said Michael Watkins, director of JPL. “That this project has achieved such a historic first is testimony to the innovation and doggedness of our team here at JPL, as well as at NASA’s Langley and Ames Research Centers, and our industry partners. It’s a shining example of the kind of technology push that thrives at JPL and fits well with NASA’s exploration goals.”\n",
      "Parked about 211 feet (64.3 meters) away at Van Zyl Overlook during Ingenuity’s historic first flight, the Perseverance rover not only acted as a communications relay between the helicopter and Earth, but also chronicled the flight operations with its cameras. The pictures from the rover’s Mastcam-Z and Navcam imagers will provide additional data on the helicopter’s flight.  \n",
      "“We have been thinking for so long about having our Wright brothers moment on Mars, and here it is,” said MiMi Aung, project manager of the Ingenuity Mars Helicopter at JPL. “We will take a moment to celebrate our success and then take a cue from Orville and Wilbur regarding what to do next. History shows they got back to work – to learn as much as they could about their new aircraft – and so will we.”\n",
      "Perseverance touched down with Ingenuity attached to its belly on Feb. 18. Deployed to the surface of Jezero Crater on April 3, Ingenuity is currently on the 16th sol, or Martian day, of its 30-sol (31-Earth day) flight test window. Over the next three sols, the helicopter team will receive and analyze all data and imagery from the test and formulate a plan for the second experimental test flight, scheduled for no earlier than April 22. If the helicopter survives the second flight test, the Ingenuity team will consider how best to expand the flight profile.\n",
      "More About Ingenuity\n",
      "JPL, which built Ingenuity, also manages the technology demonstration project for NASA. It is supported by NASA’s Science, Aeronautics, and Space Technology mission directorates. The agency’s Ames Research Center in California’s Silicon Valley and Langley Research Center in Hampton, Virginia, provided significant flight performance analysis and technical assistance during Ingenuity’s development.\n",
      "Dave Lavery is the program executive for the Ingenuity Mars Helicopter, MiMi Aung is the project manager, and Bob Balaram is chief engineer.\n",
      "For more information about Ingenuity:\n",
      "https://go.nasa.gov/ingenuity-press-kit\n",
      "and\n",
      "https://mars.nasa.gov/technology/helicopter\n",
      "More About Perseverance\n",
      "A key objective for Perseverance’s mission on Mars is astrobiology, including the search for signs of ancient microbial life. The rover will characterize the planet’s geology and past climate, pave the way for human exploration of the Red Planet, and be the first mission to collect and cache Martian rock and regolith (broken rock and dust).\n",
      "Subsequent NASA missions, in cooperation with ESA (European Space Agency), would send spacecraft to Mars to collect these sealed samples from the surface and return them to Earth for in-depth analysis.\n",
      "JPL built and manages operations of the Perseverance rover. JPL is managed for NASA by Caltech in Pasadena, California.\n",
      "News Media Contacts\n",
      "Alana Johnson / Grey Hautaluoma\n",
      "Headquarters, Washington\n",
      "202-672-4780 / 202-358-0668\n",
      "alana.r.johnson@nasa.gov / grey.hautaluoma-1@nasa.gov\n",
      "DC Agle\n",
      "Jet Propulsion Laboratory, Pasadena, Calif.\n",
      "818-393-9011\n",
      "agle@jpl.nasa.gov\n"
     ]
    }
   ],
   "source": [
    "paragraphs = results2.find_all('p')\n",
    "for paragraph in paragraphs:\n",
    "    print(paragraph.text)"
   ]
  },
  {
   "cell_type": "code",
   "execution_count": 11,
   "id": "a411fb4a",
   "metadata": {},
   "outputs": [],
   "source": [
    "mars_image_url=\"https://data-class-jpl-space.s3.amazonaws.com/JPL_Space/index.html\""
   ]
  },
  {
   "cell_type": "code",
   "execution_count": 12,
   "id": "22aba7a3",
   "metadata": {},
   "outputs": [
    {
     "name": "stdout",
     "output_type": "stream",
     "text": [
      "<img class=\"headerimage fade-in\" src=\"image/featured/mars2.jpg\"/>\n"
     ]
    }
   ],
   "source": [
    "driver.get(mars_image_url)\n",
    "time.sleep(3)\n",
    "html=driver.page_source\n",
    "soup=bs(html)\n",
    "img=soup.find(class_=\"headerimage\")\n",
    "print(img)"
   ]
  },
  {
   "cell_type": "code",
   "execution_count": null,
   "id": "b5aae1ae",
   "metadata": {},
   "outputs": [],
   "source": []
  },
  {
   "cell_type": "code",
   "execution_count": 13,
   "id": "6a606b13",
   "metadata": {},
   "outputs": [],
   "source": [
    "featured_image_url=\"https://data-class-jpl-space.s3.amazonaws.com/JPL_Space/image/featured/mars2.jpg\""
   ]
  },
  {
   "cell_type": "code",
   "execution_count": 14,
   "id": "dd22ef26",
   "metadata": {},
   "outputs": [],
   "source": [
    "mars_url=\"https://space-facts.com/mars/\""
   ]
  },
  {
   "cell_type": "code",
   "execution_count": 15,
   "id": "1b215987",
   "metadata": {},
   "outputs": [],
   "source": [
    "mars_df=pd.read_html(mars_url)[0]"
   ]
  },
  {
   "cell_type": "code",
   "execution_count": 16,
   "id": "78f6ae8d",
   "metadata": {},
   "outputs": [],
   "source": [
    "html_string=mars_df.to_html()\n",
    "   "
   ]
  },
  {
   "cell_type": "code",
   "execution_count": 17,
   "id": "6e364aca",
   "metadata": {},
   "outputs": [],
   "source": [
    "hemispheres_url=\"https://astrogeology.usgs.gov/search/results?q=hemisphere+enhanced&k1=target&v1=Mars\""
   ]
  },
  {
   "cell_type": "code",
   "execution_count": 31,
   "id": "4b632dd8",
   "metadata": {},
   "outputs": [],
   "source": [
    "driver.get(hemispheres_url)\n",
    "time.sleep(5)\n",
    "html=driver.page_source\n",
    "soup=bs(html)"
   ]
  },
  {
   "cell_type": "code",
   "execution_count": 34,
   "id": "60901523",
   "metadata": {},
   "outputs": [
    {
     "ename": "NoSuchElementException",
     "evalue": "Message: no such element: Unable to locate element: {\"method\":\"xpath\",\"selector\":\"/html/body/div[1]/div[1]/div[2]/section/div/div[2]/div[1]/div/a\"}\n  (Session info: chrome=89.0.4389.128)\n",
     "output_type": "error",
     "traceback": [
      "\u001b[1;31m---------------------------------------------------------------------------\u001b[0m",
      "\u001b[1;31mNoSuchElementException\u001b[0m                    Traceback (most recent call last)",
      "\u001b[1;32m<ipython-input-34-a094181e1877>\u001b[0m in \u001b[0;36m<module>\u001b[1;34m\u001b[0m\n\u001b[1;32m----> 1\u001b[1;33m \u001b[0mnew_html\u001b[0m\u001b[1;33m=\u001b[0m\u001b[0mdriver\u001b[0m\u001b[1;33m.\u001b[0m\u001b[0mfind_element_by_xpath\u001b[0m\u001b[1;33m(\u001b[0m\u001b[1;34m\"/html/body/div[1]/div[1]/div[2]/section/div/div[2]/div[1]/div/a\"\u001b[0m\u001b[1;33m)\u001b[0m\u001b[1;33m.\u001b[0m\u001b[0mclick\u001b[0m\u001b[1;33m(\u001b[0m\u001b[1;33m)\u001b[0m\u001b[1;33m\u001b[0m\u001b[1;33m\u001b[0m\u001b[0m\n\u001b[0m\u001b[0;32m      2\u001b[0m \u001b[0mtime\u001b[0m\u001b[1;33m.\u001b[0m\u001b[0msleep\u001b[0m\u001b[1;33m(\u001b[0m\u001b[1;36m4\u001b[0m\u001b[1;33m)\u001b[0m\u001b[1;33m\u001b[0m\u001b[1;33m\u001b[0m\u001b[0m\n\u001b[0;32m      3\u001b[0m \u001b[0mprint\u001b[0m\u001b[1;33m(\u001b[0m\u001b[0mnew_html\u001b[0m\u001b[1;33m)\u001b[0m\u001b[1;33m.\u001b[0m\u001b[0mtext\u001b[0m\u001b[1;33m\u001b[0m\u001b[1;33m\u001b[0m\u001b[0m\n",
      "\u001b[1;32m~\\anaconda3\\envs\\pythonData\\lib\\site-packages\\selenium\\webdriver\\remote\\webdriver.py\u001b[0m in \u001b[0;36mfind_element_by_xpath\u001b[1;34m(self, xpath)\u001b[0m\n\u001b[0;32m    392\u001b[0m             \u001b[0melement\u001b[0m \u001b[1;33m=\u001b[0m \u001b[0mdriver\u001b[0m\u001b[1;33m.\u001b[0m\u001b[0mfind_element_by_xpath\u001b[0m\u001b[1;33m(\u001b[0m\u001b[1;34m'//div/td[1]'\u001b[0m\u001b[1;33m)\u001b[0m\u001b[1;33m\u001b[0m\u001b[1;33m\u001b[0m\u001b[0m\n\u001b[0;32m    393\u001b[0m         \"\"\"\n\u001b[1;32m--> 394\u001b[1;33m         \u001b[1;32mreturn\u001b[0m \u001b[0mself\u001b[0m\u001b[1;33m.\u001b[0m\u001b[0mfind_element\u001b[0m\u001b[1;33m(\u001b[0m\u001b[0mby\u001b[0m\u001b[1;33m=\u001b[0m\u001b[0mBy\u001b[0m\u001b[1;33m.\u001b[0m\u001b[0mXPATH\u001b[0m\u001b[1;33m,\u001b[0m \u001b[0mvalue\u001b[0m\u001b[1;33m=\u001b[0m\u001b[0mxpath\u001b[0m\u001b[1;33m)\u001b[0m\u001b[1;33m\u001b[0m\u001b[1;33m\u001b[0m\u001b[0m\n\u001b[0m\u001b[0;32m    395\u001b[0m \u001b[1;33m\u001b[0m\u001b[0m\n\u001b[0;32m    396\u001b[0m     \u001b[1;32mdef\u001b[0m \u001b[0mfind_elements_by_xpath\u001b[0m\u001b[1;33m(\u001b[0m\u001b[0mself\u001b[0m\u001b[1;33m,\u001b[0m \u001b[0mxpath\u001b[0m\u001b[1;33m)\u001b[0m\u001b[1;33m:\u001b[0m\u001b[1;33m\u001b[0m\u001b[1;33m\u001b[0m\u001b[0m\n",
      "\u001b[1;32m~\\anaconda3\\envs\\pythonData\\lib\\site-packages\\selenium\\webdriver\\remote\\webdriver.py\u001b[0m in \u001b[0;36mfind_element\u001b[1;34m(self, by, value)\u001b[0m\n\u001b[0;32m    976\u001b[0m         return self.execute(Command.FIND_ELEMENT, {\n\u001b[0;32m    977\u001b[0m             \u001b[1;34m'using'\u001b[0m\u001b[1;33m:\u001b[0m \u001b[0mby\u001b[0m\u001b[1;33m,\u001b[0m\u001b[1;33m\u001b[0m\u001b[1;33m\u001b[0m\u001b[0m\n\u001b[1;32m--> 978\u001b[1;33m             'value': value})['value']\n\u001b[0m\u001b[0;32m    979\u001b[0m \u001b[1;33m\u001b[0m\u001b[0m\n\u001b[0;32m    980\u001b[0m     \u001b[1;32mdef\u001b[0m \u001b[0mfind_elements\u001b[0m\u001b[1;33m(\u001b[0m\u001b[0mself\u001b[0m\u001b[1;33m,\u001b[0m \u001b[0mby\u001b[0m\u001b[1;33m=\u001b[0m\u001b[0mBy\u001b[0m\u001b[1;33m.\u001b[0m\u001b[0mID\u001b[0m\u001b[1;33m,\u001b[0m \u001b[0mvalue\u001b[0m\u001b[1;33m=\u001b[0m\u001b[1;32mNone\u001b[0m\u001b[1;33m)\u001b[0m\u001b[1;33m:\u001b[0m\u001b[1;33m\u001b[0m\u001b[1;33m\u001b[0m\u001b[0m\n",
      "\u001b[1;32m~\\anaconda3\\envs\\pythonData\\lib\\site-packages\\selenium\\webdriver\\remote\\webdriver.py\u001b[0m in \u001b[0;36mexecute\u001b[1;34m(self, driver_command, params)\u001b[0m\n\u001b[0;32m    319\u001b[0m         \u001b[0mresponse\u001b[0m \u001b[1;33m=\u001b[0m \u001b[0mself\u001b[0m\u001b[1;33m.\u001b[0m\u001b[0mcommand_executor\u001b[0m\u001b[1;33m.\u001b[0m\u001b[0mexecute\u001b[0m\u001b[1;33m(\u001b[0m\u001b[0mdriver_command\u001b[0m\u001b[1;33m,\u001b[0m \u001b[0mparams\u001b[0m\u001b[1;33m)\u001b[0m\u001b[1;33m\u001b[0m\u001b[1;33m\u001b[0m\u001b[0m\n\u001b[0;32m    320\u001b[0m         \u001b[1;32mif\u001b[0m \u001b[0mresponse\u001b[0m\u001b[1;33m:\u001b[0m\u001b[1;33m\u001b[0m\u001b[1;33m\u001b[0m\u001b[0m\n\u001b[1;32m--> 321\u001b[1;33m             \u001b[0mself\u001b[0m\u001b[1;33m.\u001b[0m\u001b[0merror_handler\u001b[0m\u001b[1;33m.\u001b[0m\u001b[0mcheck_response\u001b[0m\u001b[1;33m(\u001b[0m\u001b[0mresponse\u001b[0m\u001b[1;33m)\u001b[0m\u001b[1;33m\u001b[0m\u001b[1;33m\u001b[0m\u001b[0m\n\u001b[0m\u001b[0;32m    322\u001b[0m             response['value'] = self._unwrap_value(\n\u001b[0;32m    323\u001b[0m                 response.get('value', None))\n",
      "\u001b[1;32m~\\anaconda3\\envs\\pythonData\\lib\\site-packages\\selenium\\webdriver\\remote\\errorhandler.py\u001b[0m in \u001b[0;36mcheck_response\u001b[1;34m(self, response)\u001b[0m\n\u001b[0;32m    240\u001b[0m                 \u001b[0malert_text\u001b[0m \u001b[1;33m=\u001b[0m \u001b[0mvalue\u001b[0m\u001b[1;33m[\u001b[0m\u001b[1;34m'alert'\u001b[0m\u001b[1;33m]\u001b[0m\u001b[1;33m.\u001b[0m\u001b[0mget\u001b[0m\u001b[1;33m(\u001b[0m\u001b[1;34m'text'\u001b[0m\u001b[1;33m)\u001b[0m\u001b[1;33m\u001b[0m\u001b[1;33m\u001b[0m\u001b[0m\n\u001b[0;32m    241\u001b[0m             \u001b[1;32mraise\u001b[0m \u001b[0mexception_class\u001b[0m\u001b[1;33m(\u001b[0m\u001b[0mmessage\u001b[0m\u001b[1;33m,\u001b[0m \u001b[0mscreen\u001b[0m\u001b[1;33m,\u001b[0m \u001b[0mstacktrace\u001b[0m\u001b[1;33m,\u001b[0m \u001b[0malert_text\u001b[0m\u001b[1;33m)\u001b[0m\u001b[1;33m\u001b[0m\u001b[1;33m\u001b[0m\u001b[0m\n\u001b[1;32m--> 242\u001b[1;33m         \u001b[1;32mraise\u001b[0m \u001b[0mexception_class\u001b[0m\u001b[1;33m(\u001b[0m\u001b[0mmessage\u001b[0m\u001b[1;33m,\u001b[0m \u001b[0mscreen\u001b[0m\u001b[1;33m,\u001b[0m \u001b[0mstacktrace\u001b[0m\u001b[1;33m)\u001b[0m\u001b[1;33m\u001b[0m\u001b[1;33m\u001b[0m\u001b[0m\n\u001b[0m\u001b[0;32m    243\u001b[0m \u001b[1;33m\u001b[0m\u001b[0m\n\u001b[0;32m    244\u001b[0m     \u001b[1;32mdef\u001b[0m \u001b[0m_value_or_default\u001b[0m\u001b[1;33m(\u001b[0m\u001b[0mself\u001b[0m\u001b[1;33m,\u001b[0m \u001b[0mobj\u001b[0m\u001b[1;33m,\u001b[0m \u001b[0mkey\u001b[0m\u001b[1;33m,\u001b[0m \u001b[0mdefault\u001b[0m\u001b[1;33m)\u001b[0m\u001b[1;33m:\u001b[0m\u001b[1;33m\u001b[0m\u001b[1;33m\u001b[0m\u001b[0m\n",
      "\u001b[1;31mNoSuchElementException\u001b[0m: Message: no such element: Unable to locate element: {\"method\":\"xpath\",\"selector\":\"/html/body/div[1]/div[1]/div[2]/section/div/div[2]/div[1]/div/a\"}\n  (Session info: chrome=89.0.4389.128)\n"
     ]
    }
   ],
   "source": [
    "new_html=driver.find_element_by_xpath(\"/html/body/div[1]/div[1]/div[2]/section/div/div[2]/div[1]/div/a\").click()\n",
    "time.sleep(4)\n",
    "print(new_html).text"
   ]
  },
  {
   "cell_type": "code",
   "execution_count": 33,
   "id": "dc2a1743",
   "metadata": {},
   "outputs": [
    {
     "ename": "InvalidArgumentException",
     "evalue": "Message: invalid argument: 'url' must be a string\n  (Session info: chrome=89.0.4389.128)\n",
     "output_type": "error",
     "traceback": [
      "\u001b[1;31m---------------------------------------------------------------------------\u001b[0m",
      "\u001b[1;31mInvalidArgumentException\u001b[0m                  Traceback (most recent call last)",
      "\u001b[1;32m<ipython-input-33-83c91bfb608e>\u001b[0m in \u001b[0;36m<module>\u001b[1;34m\u001b[0m\n\u001b[1;32m----> 1\u001b[1;33m \u001b[0mdriver\u001b[0m\u001b[1;33m.\u001b[0m\u001b[0mget\u001b[0m\u001b[1;33m(\u001b[0m\u001b[0mnew_url\u001b[0m\u001b[1;33m)\u001b[0m\u001b[1;33m\u001b[0m\u001b[1;33m\u001b[0m\u001b[0m\n\u001b[0m\u001b[0;32m      2\u001b[0m \u001b[0mtime\u001b[0m\u001b[1;33m.\u001b[0m\u001b[0msleep\u001b[0m\u001b[1;33m(\u001b[0m\u001b[1;36m5\u001b[0m\u001b[1;33m)\u001b[0m\u001b[1;33m\u001b[0m\u001b[1;33m\u001b[0m\u001b[0m\n\u001b[0;32m      3\u001b[0m \u001b[0mhtml\u001b[0m\u001b[1;33m=\u001b[0m\u001b[0mdriver\u001b[0m\u001b[1;33m.\u001b[0m\u001b[0mpage_source\u001b[0m\u001b[1;33m\u001b[0m\u001b[1;33m\u001b[0m\u001b[0m\n\u001b[0;32m      4\u001b[0m \u001b[0msoup\u001b[0m\u001b[1;33m=\u001b[0m\u001b[0mbs\u001b[0m\u001b[1;33m(\u001b[0m\u001b[0mhtml\u001b[0m\u001b[1;33m)\u001b[0m\u001b[1;33m\u001b[0m\u001b[1;33m\u001b[0m\u001b[0m\n",
      "\u001b[1;32m~\\anaconda3\\envs\\pythonData\\lib\\site-packages\\selenium\\webdriver\\remote\\webdriver.py\u001b[0m in \u001b[0;36mget\u001b[1;34m(self, url)\u001b[0m\n\u001b[0;32m    331\u001b[0m         \u001b[0mLoads\u001b[0m \u001b[0ma\u001b[0m \u001b[0mweb\u001b[0m \u001b[0mpage\u001b[0m \u001b[1;32min\u001b[0m \u001b[0mthe\u001b[0m \u001b[0mcurrent\u001b[0m \u001b[0mbrowser\u001b[0m \u001b[0msession\u001b[0m\u001b[1;33m.\u001b[0m\u001b[1;33m\u001b[0m\u001b[1;33m\u001b[0m\u001b[0m\n\u001b[0;32m    332\u001b[0m         \"\"\"\n\u001b[1;32m--> 333\u001b[1;33m         \u001b[0mself\u001b[0m\u001b[1;33m.\u001b[0m\u001b[0mexecute\u001b[0m\u001b[1;33m(\u001b[0m\u001b[0mCommand\u001b[0m\u001b[1;33m.\u001b[0m\u001b[0mGET\u001b[0m\u001b[1;33m,\u001b[0m \u001b[1;33m{\u001b[0m\u001b[1;34m'url'\u001b[0m\u001b[1;33m:\u001b[0m \u001b[0murl\u001b[0m\u001b[1;33m}\u001b[0m\u001b[1;33m)\u001b[0m\u001b[1;33m\u001b[0m\u001b[1;33m\u001b[0m\u001b[0m\n\u001b[0m\u001b[0;32m    334\u001b[0m \u001b[1;33m\u001b[0m\u001b[0m\n\u001b[0;32m    335\u001b[0m     \u001b[1;33m@\u001b[0m\u001b[0mproperty\u001b[0m\u001b[1;33m\u001b[0m\u001b[1;33m\u001b[0m\u001b[0m\n",
      "\u001b[1;32m~\\anaconda3\\envs\\pythonData\\lib\\site-packages\\selenium\\webdriver\\remote\\webdriver.py\u001b[0m in \u001b[0;36mexecute\u001b[1;34m(self, driver_command, params)\u001b[0m\n\u001b[0;32m    319\u001b[0m         \u001b[0mresponse\u001b[0m \u001b[1;33m=\u001b[0m \u001b[0mself\u001b[0m\u001b[1;33m.\u001b[0m\u001b[0mcommand_executor\u001b[0m\u001b[1;33m.\u001b[0m\u001b[0mexecute\u001b[0m\u001b[1;33m(\u001b[0m\u001b[0mdriver_command\u001b[0m\u001b[1;33m,\u001b[0m \u001b[0mparams\u001b[0m\u001b[1;33m)\u001b[0m\u001b[1;33m\u001b[0m\u001b[1;33m\u001b[0m\u001b[0m\n\u001b[0;32m    320\u001b[0m         \u001b[1;32mif\u001b[0m \u001b[0mresponse\u001b[0m\u001b[1;33m:\u001b[0m\u001b[1;33m\u001b[0m\u001b[1;33m\u001b[0m\u001b[0m\n\u001b[1;32m--> 321\u001b[1;33m             \u001b[0mself\u001b[0m\u001b[1;33m.\u001b[0m\u001b[0merror_handler\u001b[0m\u001b[1;33m.\u001b[0m\u001b[0mcheck_response\u001b[0m\u001b[1;33m(\u001b[0m\u001b[0mresponse\u001b[0m\u001b[1;33m)\u001b[0m\u001b[1;33m\u001b[0m\u001b[1;33m\u001b[0m\u001b[0m\n\u001b[0m\u001b[0;32m    322\u001b[0m             response['value'] = self._unwrap_value(\n\u001b[0;32m    323\u001b[0m                 response.get('value', None))\n",
      "\u001b[1;32m~\\anaconda3\\envs\\pythonData\\lib\\site-packages\\selenium\\webdriver\\remote\\errorhandler.py\u001b[0m in \u001b[0;36mcheck_response\u001b[1;34m(self, response)\u001b[0m\n\u001b[0;32m    240\u001b[0m                 \u001b[0malert_text\u001b[0m \u001b[1;33m=\u001b[0m \u001b[0mvalue\u001b[0m\u001b[1;33m[\u001b[0m\u001b[1;34m'alert'\u001b[0m\u001b[1;33m]\u001b[0m\u001b[1;33m.\u001b[0m\u001b[0mget\u001b[0m\u001b[1;33m(\u001b[0m\u001b[1;34m'text'\u001b[0m\u001b[1;33m)\u001b[0m\u001b[1;33m\u001b[0m\u001b[1;33m\u001b[0m\u001b[0m\n\u001b[0;32m    241\u001b[0m             \u001b[1;32mraise\u001b[0m \u001b[0mexception_class\u001b[0m\u001b[1;33m(\u001b[0m\u001b[0mmessage\u001b[0m\u001b[1;33m,\u001b[0m \u001b[0mscreen\u001b[0m\u001b[1;33m,\u001b[0m \u001b[0mstacktrace\u001b[0m\u001b[1;33m,\u001b[0m \u001b[0malert_text\u001b[0m\u001b[1;33m)\u001b[0m\u001b[1;33m\u001b[0m\u001b[1;33m\u001b[0m\u001b[0m\n\u001b[1;32m--> 242\u001b[1;33m         \u001b[1;32mraise\u001b[0m \u001b[0mexception_class\u001b[0m\u001b[1;33m(\u001b[0m\u001b[0mmessage\u001b[0m\u001b[1;33m,\u001b[0m \u001b[0mscreen\u001b[0m\u001b[1;33m,\u001b[0m \u001b[0mstacktrace\u001b[0m\u001b[1;33m)\u001b[0m\u001b[1;33m\u001b[0m\u001b[1;33m\u001b[0m\u001b[0m\n\u001b[0m\u001b[0;32m    243\u001b[0m \u001b[1;33m\u001b[0m\u001b[0m\n\u001b[0;32m    244\u001b[0m     \u001b[1;32mdef\u001b[0m \u001b[0m_value_or_default\u001b[0m\u001b[1;33m(\u001b[0m\u001b[0mself\u001b[0m\u001b[1;33m,\u001b[0m \u001b[0mobj\u001b[0m\u001b[1;33m,\u001b[0m \u001b[0mkey\u001b[0m\u001b[1;33m,\u001b[0m \u001b[0mdefault\u001b[0m\u001b[1;33m)\u001b[0m\u001b[1;33m:\u001b[0m\u001b[1;33m\u001b[0m\u001b[1;33m\u001b[0m\u001b[0m\n",
      "\u001b[1;31mInvalidArgumentException\u001b[0m: Message: invalid argument: 'url' must be a string\n  (Session info: chrome=89.0.4389.128)\n"
     ]
    }
   ],
   "source": [
    "driver.get(new_url)\n",
    "time.sleep(5)\n",
    "html=driver.page_source\n",
    "soup=bs(html)"
   ]
  },
  {
   "cell_type": "code",
   "execution_count": null,
   "id": "5597dbe4",
   "metadata": {},
   "outputs": [],
   "source": [
    "soup=bs(html)res=soup.find(id=\"wide-image\")\n",
    "print(res)"
   ]
  },
  {
   "cell_type": "code",
   "execution_count": null,
   "id": "ac21c92b",
   "metadata": {},
   "outputs": [],
   "source": [
    "{\"https://astrogeology.usgs.gov/cache/images/f5e372a36edfa389625da6d0cc25d905_cerberus_enhanced.tif_full.jpg\""
   ]
  }
 ],
 "metadata": {
  "kernelspec": {
   "display_name": "Python 3",
   "language": "python",
   "name": "python3"
  },
  "language_info": {
   "codemirror_mode": {
    "name": "ipython",
    "version": 3
   },
   "file_extension": ".py",
   "mimetype": "text/x-python",
   "name": "python",
   "nbconvert_exporter": "python",
   "pygments_lexer": "ipython3",
   "version": "3.6.10"
  }
 },
 "nbformat": 4,
 "nbformat_minor": 5
}
