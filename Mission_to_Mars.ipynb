{
 "cells": [
  {
   "cell_type": "code",
   "execution_count": 1,
   "id": "c90afb4f",
   "metadata": {},
   "outputs": [
    {
     "name": "stderr",
     "output_type": "stream",
     "text": [
      "[WDM] - ====== WebDriver manager ======\n",
      "[WDM] - Current google-chrome version is 90.0.4430\n",
      "[WDM] - Get LATEST driver version for 90.0.4430\n"
     ]
    },
    {
     "name": "stdout",
     "output_type": "stream",
     "text": [
      "\n",
      "\n"
     ]
    },
    {
     "name": "stderr",
     "output_type": "stream",
     "text": [
      "[WDM] - Get LATEST driver version for 90.0.4430\n",
      "[WDM] - Trying to download new driver from https://chromedriver.storage.googleapis.com/90.0.4430.24/chromedriver_win32.zip\n",
      "[WDM] - Driver has been saved in cache [C:\\Users\\brand\\.wdm\\drivers\\chromedriver\\win32\\90.0.4430.24]\n"
     ]
    }
   ],
   "source": [
    "from selenium import webdriver\n",
    "from bs4 import BeautifulSoup as bs\n",
    "import time\n",
    "from webdriver_manager.chrome import ChromeDriverManager\n",
    "from selenium.webdriver.common.keys import Keys\n",
    "import pandas as pd\n",
    "import requests as r\n",
    "from splinter import Browser\n",
    "executable_path = {'executable_path': ChromeDriverManager().install()}\n",
    "browser = Browser('chrome', **executable_path, headless=False)"
   ]
  },
  {
   "cell_type": "code",
   "execution_count": 2,
   "id": "d1009ffa",
   "metadata": {},
   "outputs": [
    {
     "name": "stderr",
     "output_type": "stream",
     "text": [
      "[WDM] - ====== WebDriver manager ======\n",
      "[WDM] - Current google-chrome version is 90.0.4430\n",
      "[WDM] - Get LATEST driver version for 90.0.4430\n",
      "[WDM] - Driver [C:\\Users\\brand\\.wdm\\drivers\\chromedriver\\win32\\90.0.4430.24\\chromedriver.exe] found in cache\n"
     ]
    },
    {
     "name": "stdout",
     "output_type": "stream",
     "text": [
      "\n",
      "\n"
     ]
    }
   ],
   "source": [
    "driver = webdriver.Chrome(ChromeDriverManager().install())"
   ]
  },
  {
   "cell_type": "code",
   "execution_count": 3,
   "id": "2f69ae9c",
   "metadata": {},
   "outputs": [],
   "source": [
    "url=\"https://mars.nasa.gov/news/\""
   ]
  },
  {
   "cell_type": "code",
   "execution_count": 4,
   "id": "ce6d87db",
   "metadata": {},
   "outputs": [],
   "source": [
    "news_title=[]\n",
    "news_p=[]"
   ]
  },
  {
   "cell_type": "code",
   "execution_count": 5,
   "id": "a32ec82b",
   "metadata": {},
   "outputs": [
    {
     "name": "stdout",
     "output_type": "stream",
     "text": [
      "NASA's Ingenuity Mars Helicopter Logs Second Successful Flight\n"
     ]
    }
   ],
   "source": [
    "driver.get(url)\n",
    "time.sleep(3)\n",
    "html=driver.page_source\n",
    "soup = bs(html)\n",
    "item_list=soup.find(class_=\"item_list\")\n",
    "results=item_list.find_all(class_=\"content_title\")\n",
    "news_title=results[0].text\n",
    "print(news_title)"
   ]
  },
  {
   "cell_type": "code",
   "execution_count": 6,
   "id": "2be2ed8f",
   "metadata": {},
   "outputs": [],
   "source": [
    "href=driver.find_element_by_xpath('//*[@id=\"page\"]/div[3]/div/article/div/section/div/ul/li[1]/div/div/div[2]/a').get_attribute(\"href\")\n",
    "driver.get(href)\n",
    "time.sleep(3)\n",
    "html=driver.page_source\n",
    "soup=bs(html)\n",
    "results2=soup.find(\"div\", id=\"primary_column\")\n",
    "paragraphs = results2.find_all('p')\n",
    "for paragraph in paragraphs:\n",
    "    news_p=paragraph.text"
   ]
  },
  {
   "cell_type": "code",
   "execution_count": 7,
   "id": "8aab35d6",
   "metadata": {},
   "outputs": [],
   "source": [
    "mars_image_url=\"https://data-class-jpl-space.s3.amazonaws.com/JPL_Space/index.html\""
   ]
  },
  {
   "cell_type": "code",
   "execution_count": 8,
   "id": "8b50c7cc",
   "metadata": {},
   "outputs": [
    {
     "name": "stdout",
     "output_type": "stream",
     "text": [
      "image/featured/mars2.jpg\n"
     ]
    }
   ],
   "source": [
    "driver.get(mars_image_url)\n",
    "time.sleep(3)\n",
    "html=driver.page_source\n",
    "soup=bs(html)\n",
    "img=soup.find(class_=\"showimg\")\n",
    "for link in soup(\"a\", \"showimg\", href=True):\n",
    "    img_href=(link['href'])\n",
    "print(img_href)"
   ]
  },
  {
   "cell_type": "code",
   "execution_count": 9,
   "id": "b2ade056",
   "metadata": {},
   "outputs": [
    {
     "name": "stdout",
     "output_type": "stream",
     "text": [
      "\"https://data-class-jpl-space.s3.amazonaws.com/JPL_Spaceimage/featured/mars2.jpg\"\n"
     ]
    }
   ],
   "source": [
    "featured_image_url=(f'\"https://data-class-jpl-space.s3.amazonaws.com/JPL_Space{img_href}\"')\n",
    "print(featured_image_url)"
   ]
  },
  {
   "cell_type": "code",
   "execution_count": 10,
   "id": "510257af",
   "metadata": {},
   "outputs": [],
   "source": [
    "mars_url=\"https://space-facts.com/mars/\"\n",
    "mars_df=pd.read_html(mars_url)[0]\n",
    "html_string=mars_df.to_html()"
   ]
  },
  {
   "cell_type": "code",
   "execution_count": 11,
   "id": "3842abfa",
   "metadata": {},
   "outputs": [],
   "source": [
    "hemi_url=[]\n",
    "hemisphere_image_urls=[]\n",
    "hemisphere_titles=[]"
   ]
  },
  {
   "cell_type": "code",
   "execution_count": 12,
   "id": "3f8c08cd",
   "metadata": {},
   "outputs": [],
   "source": [
    "hemispheres_url=\"https://astrogeology.usgs.gov/search/results?q=hemisphere+enhanced&k1=target&v1=Mars\"\n",
    "driver.get(hemispheres_url)\n",
    "time.sleep(3)\n",
    "html=driver.page_source\n",
    "soup = bs(html)\n",
    "hem_res=soup.find_all(class_=\"itemLink\")\n",
    "soup.find_all('a', 'itemLink', href=True)\n",
    "for link in soup.find_all('a', 'itemLink', href=True):\n",
    "    if link.h3: \n",
    "        hemi_url.append(link['href'])\n"
   ]
  },
  {
   "cell_type": "code",
   "execution_count": 13,
   "id": "d2c109f3",
   "metadata": {},
   "outputs": [
    {
     "name": "stdout",
     "output_type": "stream",
     "text": [
      "['/search/map/Mars/Viking/cerberus_enhanced', '/search/map/Mars/Viking/schiaparelli_enhanced', '/search/map/Mars/Viking/syrtis_major_enhanced', '/search/map/Mars/Viking/valles_marineris_enhanced']\n"
     ]
    }
   ],
   "source": [
    "print(hemi_url)"
   ]
  },
  {
   "cell_type": "code",
   "execution_count": 14,
   "id": "9f378282",
   "metadata": {},
   "outputs": [],
   "source": [
    "for hemi in hemi_url:\n",
    "    driver.get(f\"https://astrogeology.usgs.gov{hemi}\")\n",
    "    time.sleep(3)\n",
    "    html=driver.page_source\n",
    "    soup=bs(html)\n",
    "    himg=soup.find(class_=\"downloads\")\n",
    "    sample_pictures=himg.find(\"a\", text=\"Sample\").get('href')\n",
    "    sample_title=soup.find(\"h2\", class_=\"title\").get_text()\n",
    "    hemisphere_image_urls.append(sample_pictures)\n",
    "    hemisphere_titles.append(sample_title)"
   ]
  },
  {
   "cell_type": "code",
   "execution_count": 15,
   "id": "424c6a80",
   "metadata": {},
   "outputs": [],
   "source": [
    "hemisphere_dict = dict(zip(hemisphere_titles, hemisphere_image_urls))"
   ]
  },
  {
   "cell_type": "code",
   "execution_count": null,
   "id": "235c2362",
   "metadata": {},
   "outputs": [],
   "source": []
  }
 ],
 "metadata": {
  "kernelspec": {
   "display_name": "Python 3",
   "language": "python",
   "name": "python3"
  },
  "language_info": {
   "codemirror_mode": {
    "name": "ipython",
    "version": 3
   },
   "file_extension": ".py",
   "mimetype": "text/x-python",
   "name": "python",
   "nbconvert_exporter": "python",
   "pygments_lexer": "ipython3",
   "version": "3.6.10"
  }
 },
 "nbformat": 4,
 "nbformat_minor": 5
}
